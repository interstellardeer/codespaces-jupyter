{
 "cells": [
  {
   "cell_type": "markdown",
   "metadata": {},
   "source": [
    "# **Tutorial Kelas Terbuka Test**\n",
    "\n",
    "Kode dan Testing dari playlist video Tutorial Python Dasar dari Kelas Terbuka"
   ]
  },
  {
   "cell_type": "markdown",
   "metadata": {},
   "source": [
    "## Variabel"
   ]
  },
  {
   "cell_type": "markdown",
   "metadata": {},
   "source": [
    "Buatlah sebuah program python dimana user harus memberikan input nama dan umur lalu output program yaitu selamat datang <nama_user> Umur anda sekarang adalah <umur_user>"
   ]
  },
  {
   "cell_type": "code",
   "execution_count": null,
   "metadata": {},
   "outputs": [
    {
     "name": "stdout",
     "output_type": "stream",
     "text": [
      "Selamat datang Arsya Umur anda sekarang adalah 18 tahun\n"
     ]
    }
   ],
   "source": [
    "nama_user = input(\"Masukkan nama user: \")\n",
    "umur_user = input(\"Masukkan umur user: \")\n",
    "\n",
    "print(\"Selamat datang\", nama_user, \"Umur anda sekarang adalah\", umur_user, \"tahun\")"
   ]
  },
  {
   "cell_type": "markdown",
   "metadata": {},
   "source": [
    "## Aritmatika"
   ]
  },
  {
   "cell_type": "markdown",
   "metadata": {},
   "source": [
    "Buatlah program kalkulator sederhana untuk pertambahan 3 buah bilangan yang diinput oleh user contohnya:\n",
    "input a=1\n",
    "input b =2\n",
    "input c=3\n",
    "lalu mengeluarkan output"
   ]
  },
  {
   "cell_type": "code",
   "execution_count": 1,
   "metadata": {},
   "outputs": [
    {
     "name": "stdout",
     "output_type": "stream",
     "text": [
      "nilai a + b + C =  343\n"
     ]
    }
   ],
   "source": [
    "a = input(\"Masukkan nilai a: \")\n",
    "b = input(\"Masukkan nilai b: \")\n",
    "c = input(\"Masukkan nilai c: \")\n",
    "\n",
    "print(\"nilai a + b + C = \", a + b + c)"
   ]
  },
  {
   "cell_type": "markdown",
   "metadata": {},
   "source": [
    "Buatlah program konversi temperatur dengan input celcius"
   ]
  },
  {
   "cell_type": "code",
   "execution_count": 4,
   "metadata": {},
   "outputs": [
    {
     "name": "stdout",
     "output_type": "stream",
     "text": [
      "Suhu dalam celcius adalah 32.0 C\n",
      "Suhu dalam reamur adalah 25.6 R\n",
      "Suhu dalam fahrenhait adalah 89.6 F\n",
      "Suhu dalam kelvin adalah 305.0 K\n"
     ]
    }
   ],
   "source": [
    "celcius = float(input(\"Masukkan suhu dalam celcius: \"))\n",
    "\n",
    "reamur = (4/5) * celcius\n",
    "\n",
    "fahrenhait = ((9/5) * celcius) + 32\n",
    "\n",
    "kelvin =  celcius + 273\n",
    "\n",
    "\n",
    "print(\"Suhu dalam celcius adalah\", celcius, \"C\")\n",
    "print(\"Suhu dalam reamur adalah\", reamur, \"R\")\n",
    "print(\"Suhu dalam fahrenhait adalah\", fahrenhait, \"F\")\n",
    "print(\"Suhu dalam kelvin adalah\", kelvin, \"K\")"
   ]
  },
  {
   "cell_type": "markdown",
   "metadata": {},
   "source": [
    "Buatlah program sederhana untuk mengkonversi fahrenheit ke kelvin"
   ]
  },
  {
   "cell_type": "code",
   "execution_count": 5,
   "metadata": {},
   "outputs": [
    {
     "name": "stdout",
     "output_type": "stream",
     "text": [
      "Suhu dalam fahrenhait adalah 40.0 F\n",
      "Suhu dalam kelvin adalah 277.44444444444446 K\n"
     ]
    }
   ],
   "source": [
    "fahrenhait = float(input(\"Masukkan suhu dalam fahrenhait: \"))\n",
    "\n",
    "kelvin = (5/9) * (fahrenhait - 32) + 273\n",
    "\n",
    "print(\"Suhu dalam fahrenhait adalah\", fahrenhait, \"F\")\n",
    "print(\"Suhu dalam kelvin adalah\", kelvin, \"K\")"
   ]
  },
  {
   "cell_type": "markdown",
   "metadata": {},
   "source": [
    "Buatlah program sederhana untuk mengkonversi kelvin ke fahrenheit"
   ]
  },
  {
   "cell_type": "code",
   "execution_count": 6,
   "metadata": {},
   "outputs": [
    {
     "name": "stdout",
     "output_type": "stream",
     "text": [
      "Suhu dalam kelvin adalah 70.0 K\n",
      "Suhu dalam fahrenhait adalah -333.40000000000003 F\n"
     ]
    }
   ],
   "source": [
    "kelvin = float(input(\"Masukkan suhu dalam kelvin: \"))\n",
    "\n",
    "fahrenhait = (9/5) * (kelvin - 273) + 32\n",
    "\n",
    "print(\"Suhu dalam kelvin adalah\", kelvin, \"K\")\n",
    "print(\"Suhu dalam fahrenhait adalah\", fahrenhait, \"F\")"
   ]
  },
  {
   "cell_type": "markdown",
   "metadata": {},
   "source": [
    "## Komparasi"
   ]
  },
  {
   "cell_type": "markdown",
   "metadata": {},
   "source": [
    "Macam-macam operator komparasi di python:\n",
    "\n",
    "```\n",
    "\">, <, >=, <=, ==, !=, is, is not\"\n",
    "```\n",
    "\n",
    "Setiap operator komparasi akan menghasilkan nilai boolean"
   ]
  },
  {
   "cell_type": "code",
   "execution_count": 8,
   "metadata": {},
   "outputs": [
    {
     "name": "stdout",
     "output_type": "stream",
     "text": [
      "3 > 2 =  True\n",
      "3 < 2 =  False\n",
      "3 >= 2 =  True\n",
      "3 <= 2 =  False\n",
      "2 == 2 =  False\n",
      "2 == 2 =  True\n",
      "3 != 2 =  True\n"
     ]
    }
   ],
   "source": [
    "x = 3\n",
    "y = 2\n",
    "z = 2\n",
    "\n",
    "hasil= x>y\n",
    "print(\"3 > 2 = \", hasil)\n",
    "\n",
    "hasil= x<y\n",
    "print(\"3 < 2 = \", hasil)\n",
    "\n",
    "hasil= x>=y\n",
    "print(\"3 >= 2 = \", hasil)\n",
    "\n",
    "hasil= x<=y\n",
    "print(\"3 <= 2 = \", hasil)\n",
    "\n",
    "hasil= x==y\n",
    "print(\"2 == 2 = \", hasil)\n",
    "\n",
    "hasil= y==z\n",
    "print(\"2 == 2 = \", hasil)\n",
    "\n",
    "hasil= x!=y\n",
    "print(\"3 != 2 = \", hasil)\n",
    "\n"
   ]
  },
  {
   "cell_type": "markdown",
   "metadata": {},
   "source": [
    "Operator komparasi **\"is\"** dan **\"is not\"** digunakan untuk membandingkan identity dari suatu object"
   ]
  },
  {
   "cell_type": "code",
   "execution_count": 10,
   "metadata": {},
   "outputs": [
    {
     "name": "stdout",
     "output_type": "stream",
     "text": [
      "nilai x = 4 , id =  0x7f6b2da08150\n",
      "nilai y = 4 , id =  0x7f6b2da08150\n",
      "0x7f6b2da08150 adalah memory address dari x dan y\n",
      "x is y = True\n"
     ]
    }
   ],
   "source": [
    "x = 4\n",
    "y = 4\n",
    "\n",
    "print('nilai x =', x, ', id = ', hex(id(x)))\n",
    "print('nilai y =', y, ', id = ', hex(id(y)))\n",
    "print(hex(id(x)), 'adalah memory address dari x dan y')\n",
    "\n",
    "hasil = x is y\n",
    "print('x is y =', hasil)"
   ]
  },
  {
   "cell_type": "code",
   "execution_count": 11,
   "metadata": {},
   "outputs": [
    {
     "name": "stdout",
     "output_type": "stream",
     "text": [
      "nilai x = 5 , id =  0x7f6b2da08170\n",
      "nilai y = 4 , id =  0x7f6b2da08150\n",
      "x is not y = True\n"
     ]
    }
   ],
   "source": [
    "x = 5\n",
    "y = 4\n",
    "\n",
    "print('nilai x =', x, ', id = ', hex(id(x)))\n",
    "print('nilai y =', y, ', id = ', hex(id(y)))\n",
    "\n",
    "hasil = x is not y\n",
    "print('x is not y =', hasil)"
   ]
  },
  {
   "cell_type": "markdown",
   "metadata": {},
   "source": [
    "## Logika"
   ]
  },
  {
   "cell_type": "markdown",
   "metadata": {},
   "source": [
    "Macam-macam operator logika di python:\n",
    "\n",
    "```\n",
    "\"and, or, not, xor\"\n",
    "```\n",
    "\n",
    "* Operator logika **\"and\"** akan menghasilkan nilai **True** jika semua nilai yang dibandingkan bernilai **True**\n",
    "\n",
    "* Operator logika **\"or\"** akan menghasilkan nilai **True** jika salah satu nilai yang dibandingkan bernilai **True**\n",
    "\n",
    "---\n",
    "\n",
    "* Operator logika **\"not\"** akan menghasilkan nilai **True** jika nilai yang dibandingkan bernilai **False**\n",
    "\n",
    "* Operator logika **\"xor\"** akan menghasilkan nilai **True** jika salah satu nilai yang dibandingkan bernilai **True** dan salah satu nilai yang dibandingkan bernilai **False**\n"
   ]
  },
  {
   "cell_type": "code",
   "execution_count": 14,
   "metadata": {},
   "outputs": [
    {
     "name": "stdout",
     "output_type": "stream",
     "text": [
      "False AND False = False\n",
      "False AND True = False\n",
      "True AND False = False\n",
      "True AND True = True\n"
     ]
    }
   ],
   "source": [
    "# AND\n",
    "\n",
    "a = False\n",
    "b = False\n",
    "c = a and b\n",
    "print(a, 'AND', b, '=', c)\n",
    "\n",
    "a = False\n",
    "b = True\n",
    "c = a and b\n",
    "print(a, 'AND', b, '=', c)\n",
    "\n",
    "a = True\n",
    "b = False\n",
    "c = a and b\n",
    "print(a, 'AND', b, '=', c)\n",
    "\n",
    "a = True\n",
    "b = True\n",
    "c = a and b\n",
    "print(a, 'AND', b, '=', c)"
   ]
  },
  {
   "cell_type": "code",
   "execution_count": 15,
   "metadata": {},
   "outputs": [
    {
     "name": "stdout",
     "output_type": "stream",
     "text": [
      "False OR False = False\n",
      "False OR True = True\n",
      "True OR False = True\n",
      "True OR True = True\n"
     ]
    }
   ],
   "source": [
    "# OR\n",
    "\n",
    "a = False\n",
    "b = False\n",
    "c = a or b\n",
    "print(a, 'OR', b, '=', c)\n",
    "\n",
    "a = False\n",
    "b = True\n",
    "c = a or b\n",
    "print(a, 'OR', b, '=', c)\n",
    "\n",
    "a = True\n",
    "b = False\n",
    "c = a or b\n",
    "print(a, 'OR', b, '=', c)\n",
    "\n",
    "a = True\n",
    "b = True\n",
    "c = a or b\n",
    "print(a, 'OR', b, '=', c)"
   ]
  },
  {
   "cell_type": "code",
   "execution_count": 16,
   "metadata": {},
   "outputs": [
    {
     "name": "stdout",
     "output_type": "stream",
     "text": [
      "NOT True = False\n",
      "NOT False = True\n"
     ]
    }
   ],
   "source": [
    "# NOT\n",
    "\n",
    "a = True\n",
    "c = not a\n",
    "print('NOT', a, '=', c)\n",
    "\n",
    "a = False\n",
    "c = not a\n",
    "print('NOT', a, '=', c)"
   ]
  },
  {
   "cell_type": "code",
   "execution_count": 17,
   "metadata": {},
   "outputs": [
    {
     "name": "stdout",
     "output_type": "stream",
     "text": [
      "False XOR False = False\n",
      "False XOR True = True\n",
      "True XOR False = True\n",
      "True XOR True = False\n"
     ]
    }
   ],
   "source": [
    "# XOR\n",
    "\n",
    "a = False\n",
    "b = False\n",
    "c = a ^ b\n",
    "print(a, 'XOR', b, '=', c)\n",
    "\n",
    "a = False\n",
    "b = True\n",
    "c = a ^ b\n",
    "print(a, 'XOR', b, '=', c)\n",
    "\n",
    "a = True\n",
    "b = False\n",
    "c = a ^ b\n",
    "print(a, 'XOR', b, '=', c)\n",
    "\n",
    "a = True\n",
    "b = True\n",
    "c = a ^ b\n",
    "print(a, 'XOR', b, '=', c)"
   ]
  },
  {
   "cell_type": "markdown",
   "metadata": {},
   "source": [
    "## Latihan Logika dan Komparasi"
   ]
  },
  {
   "cell_type": "markdown",
   "metadata": {},
   "source": [
    "Buat program dengan inputan angka yang mengeluarkan nilai True jika angka tersebut merupakan **0 < x < 5 dan 8 < x < 11**"
   ]
  },
  {
   "cell_type": "code",
   "execution_count": 25,
   "metadata": {},
   "outputs": [
    {
     "name": "stdout",
     "output_type": "stream",
     "text": [
      "Angka yang anda masukkan adalah 1.0 sehingga True\n"
     ]
    }
   ],
   "source": [
    "input_user = float(input(\"Masukkan angka: \"))\n",
    "\n",
    "hasil = (input_user > 0) and (input_user < 5) or (input_user > 8) and (input_user < 11)\n",
    "\n",
    "print(\"Angka yang anda masukkan adalah\", input_user, \"sehingga\", hasil)"
   ]
  },
  {
   "cell_type": "markdown",
   "metadata": {},
   "source": [
    "Buat program dengan inputan angka yang mengeluarkan nilai True jika angka tersebut merupakan x < 0 dan 5 < x < 8 dan  11 < x"
   ]
  },
  {
   "cell_type": "code",
   "execution_count": 30,
   "metadata": {},
   "outputs": [
    {
     "name": "stdout",
     "output_type": "stream",
     "text": [
      "Angka yang anda masukkan adalah -7.0 sehingga True\n"
     ]
    }
   ],
   "source": [
    "input_user = float(input(\"Masukkan angka: \"))\n",
    "\n",
    "hasil = (input_user < 0) or (input_user > 5) and (input_user < 8) or (input_user > 11)\n",
    "\n",
    "print(\"Angka yang anda masukkan adalah\", input_user, \"sehingga\", hasil)"
   ]
  },
  {
   "cell_type": "markdown",
   "metadata": {},
   "source": []
  },
  {
   "cell_type": "markdown",
   "metadata": {},
   "source": [
    "## Assignment"
   ]
  },
  {
   "cell_type": "markdown",
   "metadata": {},
   "source": [
    "Macam-macam operator assignment di python:\n",
    "\n",
    "```\n",
    "\"=, +=, -=, *=, /=, %=, **=, //=, &=, |=, ^=, >>=, <<=\"\n",
    "```\n",
    "\n",
    "Operator assignment digunakan untuk menyederhanakan operasi aritmatika\n",
    "\n",
    "- Operator assignment **\"=\"** digunakan untuk menyimpan nilai\n",
    "\n",
    "- Operator assignment **\"+=\"** digunakan untuk menjumlahkan nilai\n",
    "\n",
    "- Operator assignment **\"-=\"** digunakan untuk mengurangi nilai\n",
    "\n",
    "- Operator assignment **\"*=\"** digunakan untuk mengalikan nilai\n",
    "\n",
    "- Operator assignment **\"/=\"** digunakan untuk membagi nilai\n",
    "\n",
    "- Operator assignment **\"%=\"** digunakan untuk mengambil sisa bagi\n",
    "\n",
    "- Operator assignment **\"**=\"** digunakan untuk memangkatkan nilai\n",
    "\n",
    "- Operator assignment **\"//=\"** digunakan untuk membagi lalu dibulatkan kebawah\n",
    "\n",
    "- Operator assignment **\"&=\"** digunakan untuk operasi bitwise AND\n",
    "\n",
    "- Operator assignment **\"|=\"** digunakan untuk operasi bitwise OR\n",
    "\n",
    "- Operator assignment **\"^=\"** digunakan untuk operasi bitwise XOR\n",
    "\n",
    "- Operator assignment **\">>=\"** digunakan untuk operasi bitwise right shift\n",
    "\n",
    "- Operator assignment **\"<<=\"** digunakan untuk operasi bitwise left shift\n",
    "\n"
   ]
  },
  {
   "cell_type": "code",
   "execution_count": 6,
   "metadata": {},
   "outputs": [
    {
     "name": "stdout",
     "output_type": "stream",
     "text": [
      "nilai x = 5\n",
      "nilai x + 1 = 6\n"
     ]
    }
   ],
   "source": [
    "x = 5\n",
    "print('nilai x =', x)\n",
    "\n",
    "x = x + 1\n",
    "print('nilai x + 1 =', x)\n"
   ]
  },
  {
   "cell_type": "code",
   "execution_count": 7,
   "metadata": {},
   "outputs": [
    {
     "name": "stdout",
     "output_type": "stream",
     "text": [
      "nilai x = 5\n",
      "nilai x += 1 = 6\n"
     ]
    }
   ],
   "source": [
    "x = 5\n",
    "print('nilai x =', x)\n",
    "\n",
    "x += 1\n",
    "print('nilai x += 1 =', x)"
   ]
  },
  {
   "cell_type": "markdown",
   "metadata": {},
   "source": [
    "## String"
   ]
  },
  {
   "cell_type": "markdown",
   "metadata": {},
   "source": [
    "### Tipe-tipe String"
   ]
  },
  {
   "cell_type": "markdown",
   "metadata": {},
   "source": [
    "String adalah tipe data yang berisi kumpulan karakter unicode. String di python diapit oleh tanda petik.\n",
    "\n",
    "```\n",
    "Contoh: 'Hello World', \"Hello World\", \"\"\"Hello World\"\"\", '''Hello World'''\n",
    "```\n",
    "\n",
    "String di python bersifat immutable, artinya tidak dapat diubah setelah dideklarasikan"
   ]
  },
  {
   "cell_type": "code",
   "execution_count": 2,
   "metadata": {},
   "outputs": [
    {
     "name": "stdout",
     "output_type": "stream",
     "text": [
      "mari sholat jum'at\n"
     ]
    }
   ],
   "source": [
    "print('mari sholat jum\\'at')"
   ]
  },
  {
   "cell_type": "code",
   "execution_count": 3,
   "metadata": {},
   "outputs": [
    {
     "ename": "SyntaxError",
     "evalue": "(unicode error) 'unicodeescape' codec can't decode bytes in position 2-3: truncated \\UXXXXXXXX escape (740601969.py, line 1)",
     "output_type": "error",
     "traceback": [
      "\u001b[0;36m  Cell \u001b[0;32mIn[3], line 1\u001b[0;36m\u001b[0m\n\u001b[0;31m    print(\"C:\\User\\Ucup\")\u001b[0m\n\u001b[0m                        ^\u001b[0m\n\u001b[0;31mSyntaxError\u001b[0m\u001b[0;31m:\u001b[0m (unicode error) 'unicodeescape' codec can't decode bytes in position 2-3: truncated \\UXXXXXXXX escape\n"
     ]
    }
   ],
   "source": [
    "print(\"C:\\User\\Ucup\")"
   ]
  },
  {
   "cell_type": "markdown",
   "metadata": {},
   "source": [
    "Akan error karena \\ adalah karakter escape, yang artinya karakter selanjutnya akan dianggap sebagai karakter khusus.\n",
    "\n",
    "Untuk mengatasi error tersebut, kita dapat menggunakan raw string dengan menambahkan huruf **r** sebelum string\n"
   ]
  },
  {
   "cell_type": "code",
   "execution_count": 7,
   "metadata": {},
   "outputs": [
    {
     "name": "stdout",
     "output_type": "stream",
     "text": [
      "C:\\User\\Ucup\n",
      "C:\\User\\Ucup\n"
     ]
    }
   ],
   "source": [
    "print(r\"C:\\User\\Ucup\")\n",
    "#or\n",
    "print(\"C:\\\\User\\\\Ucup\")"
   ]
  },
  {
   "cell_type": "markdown",
   "metadata": {},
   "source": [
    "\\n digunakan untuk membuat baris baru"
   ]
  },
  {
   "cell_type": "code",
   "execution_count": 10,
   "metadata": {},
   "outputs": [
    {
     "name": "stdout",
     "output_type": "stream",
     "text": [
      "Ucup berkata \"kemaren kemana bro?\" \n",
      "Udin menjawab \"kemaren bobo bro\"\n"
     ]
    }
   ],
   "source": [
    "print(\"Ucup berkata \\\"kemaren kemana bro?\\\" \\nUdin menjawab \\\"kemaren bobo bro\\\"\")"
   ]
  },
  {
   "cell_type": "markdown",
   "metadata": {},
   "source": [
    "Multiline String adalah string yang ditulis dalam beberapa baris seperti comment"
   ]
  },
  {
   "cell_type": "code",
   "execution_count": 14,
   "metadata": {},
   "outputs": [
    {
     "name": "stdout",
     "output_type": "stream",
     "text": [
      " \n",
      "    Ucup berkata \"kemaren kemana bro?\", \n",
      "    kemudian udin menjawab \"kemaren bobo bro\".\n",
      "    ah lu mah tidur mulu din!\n",
      "    \n"
     ]
    }
   ],
   "source": [
    "print(\n",
    "    \"\"\" \n",
    "    Ucup berkata \"kemaren kemana bro?\", \n",
    "    kemudian udin menjawab \"kemaren bobo bro\".\n",
    "    ah lu mah tidur mulu din!\n",
    "    \"\"\")"
   ]
  },
  {
   "cell_type": "markdown",
   "metadata": {},
   "source": [
    "### Operator, Method, dan Format String"
   ]
  },
  {
   "cell_type": "markdown",
   "metadata": {},
   "source": [
    "#### Operator String"
   ]
  },
  {
   "cell_type": "markdown",
   "metadata": {},
   "source": [
    "Macam-macam operator string di python:\n",
    "\n",
    "```\n",
    "\"+, *, [], [:], in, not in\"\n",
    "```"
   ]
  },
  {
   "cell_type": "markdown",
   "metadata": {},
   "source": [
    "1. operator **\"+\"** digunakan untuk menggabungkan string"
   ]
  },
  {
   "cell_type": "code",
   "execution_count": 15,
   "metadata": {},
   "outputs": [
    {
     "name": "stdout",
     "output_type": "stream",
     "text": [
      "Ucup D Fame\n"
     ]
    }
   ],
   "source": [
    "first_name = \"Ucup\"\n",
    "middle_name = \"D\"\n",
    "last_name = \"Fame\"\n",
    "\n",
    "name = first_name + \" \" + middle_name + \" \" + last_name\n",
    "\n",
    "print(name)"
   ]
  },
  {
   "cell_type": "markdown",
   "metadata": {},
   "source": [
    "2. operator **\"*\"** digunakan untuk mengulang string"
   ]
  },
  {
   "cell_type": "code",
   "execution_count": 16,
   "metadata": {},
   "outputs": [
    {
     "data": {
      "text/plain": [
       "'Ucup D FameUcup D FameUcup D Fame'"
      ]
     },
     "execution_count": 16,
     "metadata": {},
     "output_type": "execute_result"
    }
   ],
   "source": [
    "name*3"
   ]
  },
  {
   "cell_type": "markdown",
   "metadata": {},
   "source": [
    "3. operator **\"[]\"** dan **[:]** digunakan untuk mengakses karakter dalam string berdasarkan index"
   ]
  },
  {
   "cell_type": "code",
   "execution_count": 17,
   "metadata": {},
   "outputs": [
    {
     "name": "stdout",
     "output_type": "stream",
     "text": [
      "U\n",
      "cup\n",
      "p D Fame\n",
      "Ucup\n"
     ]
    }
   ],
   "source": [
    "print(name[0])\n",
    "\n",
    "print(name[1:4])\n",
    "\n",
    "print(name[3:])\n",
    "\n",
    "print(name[:4])"
   ]
  },
  {
   "cell_type": "markdown",
   "metadata": {},
   "source": [
    "4. operator **\"in\"** dan **\"not in\"** digunakan untuk mengecek apakah suatu string berisi karakter/kata tertentu"
   ]
  },
  {
   "cell_type": "code",
   "execution_count": 21,
   "metadata": {},
   "outputs": [
    {
     "name": "stdout",
     "output_type": "stream",
     "text": [
      "d ada di Ucup D. Fame = False\n"
     ]
    }
   ],
   "source": [
    "d = \"d\"\n",
    "\n",
    "name = \"Ucup D. Fame\"\n",
    "\n",
    "status = d in name\n",
    "\n",
    "print(d, \"ada di\", name, \"=\", str(status))"
   ]
  },
  {
   "cell_type": "markdown",
   "metadata": {},
   "source": [
    "1. False karena python bersifat case sensitive dan D huruf kapital sedangkan d adalah huruf kecil\n",
    "2. str() digunakan untuk mengubah tipe data lain ke string"
   ]
  },
  {
   "cell_type": "code",
   "execution_count": 22,
   "metadata": {},
   "outputs": [
    {
     "name": "stdout",
     "output_type": "stream",
     "text": [
      "D ada di Ucup D. Fame = True\n"
     ]
    }
   ],
   "source": [
    "d = \"D\"\n",
    "\n",
    "name = \"Ucup D. Fame\"\n",
    "\n",
    "status = d in name\n",
    "\n",
    "print(d, \"ada di\", name, \"=\", str(status))"
   ]
  },
  {
   "cell_type": "markdown",
   "metadata": {},
   "source": [
    "#### Method String"
   ]
  },
  {
   "cell_type": "markdown",
   "metadata": {},
   "source": [
    "Macam-macam method string di python:\n",
    "\n",
    "```\n",
    "len(), str(), upper(), lower(), strip(), replace(), split(), join(), count(), ljust(), rjust(), center(), zfill(), isX(), startswith(), endswith(), find(), rfind(), index(), rindex(), capitalize(), title(), swapcase(), format(), isalnum(), isalpha(), isdecimal(), isdigit(), isidentifier(), islower(), isnumeric(), isprintable(), isspace(), istitle(), isupper(), encode(), maketrans(), translate(), expandtabs()\n",
    "```"
   ]
  },
  {
   "cell_type": "markdown",
   "metadata": {},
   "source": [
    "Merubah String ke Upper Case menggunakan method **upper()** dan merubah String ke Lower Case menggunakan method **lower()**"
   ]
  },
  {
   "cell_type": "code",
   "execution_count": 25,
   "metadata": {},
   "outputs": [
    {
     "name": "stdout",
     "output_type": "stream",
     "text": [
      "Normal:  bro!\n",
      "Upper:  BRO!\n",
      "Normal:  aKu KeCe AbieZZZ\n",
      "Lower:  aku kece abiezzz\n"
     ]
    }
   ],
   "source": [
    "# Merubah lowercase ke uppercase\n",
    "salam = \"bro!\"\n",
    "print(\"Normal: \", salam)\n",
    "\n",
    "salam = salam.upper()\n",
    "print(\"Upper: \", salam)\n",
    "\n",
    "# Merubah uppercase ke lowercase\n",
    "alay = \"aKu KeCe AbieZZZ\"\n",
    "print(\"Normal: \", alay)\n",
    "\n",
    "alay = alay.lower()\n",
    "print(\"Lower: \", alay)"
   ]
  },
  {
   "cell_type": "markdown",
   "metadata": {},
   "source": [
    "Mengecek apakah string merupakan Upper Case atau Lower Case menggunakan method **isupper()** dan **islower()**"
   ]
  },
  {
   "cell_type": "code",
   "execution_count": 35,
   "metadata": {},
   "outputs": [
    {
     "name": "stdout",
     "output_type": "stream",
     "text": [
      "bro! \n",
      "\n",
      "lowercase? =  True\n",
      "uppercase? =  False \n",
      "\n",
      "BRO! \n",
      "\n",
      "lowercase? =  False\n",
      "uppercase? =  True\n"
     ]
    }
   ],
   "source": [
    "salam = \"bro!\"\n",
    "print(salam, \"\\n\")\n",
    "print(\"lowercase? = \", str(salam.islower())) # hasilnya boolean sehingga harus diubah ke string menggunakan str()\n",
    "print(\"uppercase? = \", str(salam.isupper()), \"\\n\")\n",
    "\n",
    "\n",
    "salam = \"BRO!\"\n",
    "print(salam, \"\\n\")\n",
    "print(\"lowercase? = \", str(salam.islower())) # hasilnya boolean sehingga harus diubah ke string menggunakan str()\n",
    "print(\"uppercase? = \", str(salam.isupper()))\n"
   ]
  },
  {
   "cell_type": "markdown",
   "metadata": {},
   "source": [
    "#### Format String"
   ]
  },
  {
   "cell_type": "markdown",
   "metadata": {},
   "source": [
    "format string adalah cara untuk melakukan operasi formatting pada string dengan menggunakan **{ }** sebagai placeholder\n",
    "\n",
    "```\n",
    "Contoh: f\"Hello {0} {1}, selamat datang di {2}\".format(\"Budi\", \"Susanto\", \"Kelas Terbuka\")\n",
    "```"
   ]
  },
  {
   "cell_type": "code",
   "execution_count": 3,
   "metadata": {},
   "outputs": [
    {
     "name": "stdout",
     "output_type": "stream",
     "text": [
      "halo Ucup, umur kamu 14 tahun\n"
     ]
    }
   ],
   "source": [
    "nama_user = input(\"Masukkan nama user: \")\n",
    "umur_user = input(\"Masukkan umur user: \")\n",
    "\n",
    "format_str = f\"halo {nama_user}, umur kamu {umur_user} tahun\"\n",
    "\n",
    "print(format_str)"
   ]
  },
  {
   "cell_type": "markdown",
   "metadata": {},
   "source": [
    "**{:,}** digunakan untuk menambahkan pemisah ribuan "
   ]
  },
  {
   "cell_type": "code",
   "execution_count": 5,
   "metadata": {},
   "outputs": [
    {
     "name": "stdout",
     "output_type": "stream",
     "text": [
      "harga motor ini 4,000,000\n"
     ]
    }
   ],
   "source": [
    "angka = 4000000\n",
    "\n",
    "harga_motor = f\"harga motor ini {angka:,}\"\n",
    "\n",
    "print (harga_motor)"
   ]
  },
  {
   "cell_type": "markdown",
   "metadata": {},
   "source": [
    "**{:%}** digunakan untuk menambahkan persentase"
   ]
  },
  {
   "cell_type": "code",
   "execution_count": 6,
   "metadata": {},
   "outputs": [
    {
     "name": "stdout",
     "output_type": "stream",
     "text": [
      "PPN = 4.50%\n"
     ]
    }
   ],
   "source": [
    "persen = 0.045\n",
    "\n",
    "print(f\"PPN = {persen:.2%}\")"
   ]
  },
  {
   "cell_type": "markdown",
   "metadata": {},
   "source": [
    "Format lain yang dapat digunakan pada format string:\n",
    "    \n",
    "    ```\n",
    "    {:d} untuk integer\n",
    "    {:f} untuk float\n",
    "    {:.2f} untuk float dengan 2 angka di belakang koma\n",
    "    {:.2%} untuk persentase dengan 2 angka di belakang koma\n",
    "    {:,} untuk pemisah ribuan\n",
    "    ```\n",
    "\n",
    "selain yang disebutkan diatas, operasi formatting lainnya dapat dilihat di [https://docs.python.org/3/library/string.html](https://docs.python.org/3/library/string.html)"
   ]
  },
  {
   "cell_type": "markdown",
   "metadata": {},
   "source": [
    "Multiline String adalah string yang ditulis dalam beberapa baris seperti comment\n"
   ]
  }
 ],
 "metadata": {
  "kernelspec": {
   "display_name": "Python 3",
   "language": "python",
   "name": "python3"
  },
  "language_info": {
   "codemirror_mode": {
    "name": "ipython",
    "version": 3
   },
   "file_extension": ".py",
   "mimetype": "text/x-python",
   "name": "python",
   "nbconvert_exporter": "python",
   "pygments_lexer": "ipython3",
   "version": "3.10.8"
  },
  "orig_nbformat": 4
 },
 "nbformat": 4,
 "nbformat_minor": 2
}
