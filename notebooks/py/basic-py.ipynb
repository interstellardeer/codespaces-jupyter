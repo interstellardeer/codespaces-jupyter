{
 "cells": [
  {
   "cell_type": "markdown",
   "metadata": {},
   "source": [
    "# **Python Basic**"
   ]
  },
  {
   "cell_type": "markdown",
   "metadata": {},
   "source": [
    "> Python is an interpreted, interactive, object-oriented programming language. It incorporates modules, exceptions, dynamic typing, very high level dynamic data types, and classes. It supports multiple programming paradigms beyond object-oriented programming, such as procedural and functional programming. \n",
    "\n",
    "> Python combines remarkable power with very clear syntax. It has interfaces to many system calls and libraries, as well as to various window systems, and is extensible in C or C++. It is also usable as an extension language for applications that need a programmable interface. Finally, Python is portable: it runs on many Unix variants including Linux and macOS, and on Windows.\n",
    "\n",
    "https://www.python.org/doc/\n",
    "\n",
    "\n",
    "Python adalah general-purpose programming languange, sehingga dapat digunakan untuk banyak hal. Python digunakan untuk pengembangan web, AI, machine learning, sistem operasi, pengembangan aplikasi mobile, dan video game."
   ]
  },
  {
   "cell_type": "markdown",
   "metadata": {},
   "source": [
    "Dasar-dasar pemrograman python, mulai dari tipe data, variabel, operator, input output, percabangan, perulangan, fungsi, dan modul. \n",
    "\n",
    "\n",
    "Kode dan Testing dari playlist video Tutorial Python Dasar dari Kelas Terbuka dan tugas dari mata kuliah dasar pemrograman."
   ]
  },
  {
   "cell_type": "markdown",
   "metadata": {
    "notebookRunGroups": {
     "groupValue": ""
    }
   },
   "source": [
    "## Variabel"
   ]
  },
  {
   "cell_type": "markdown",
   "metadata": {},
   "source": [
    "Variabel adalah sebuah tempat dalam memori yang digunakan untuk menyimpan nilai. Nilai yang disimpan dalam variabel dapat berupa tipe data apapun.\n",
    "\n",
    "Macam-macam tipe data dalam python:\n",
    "\n",
    "| Tipe Data | Arti | Contoh |\n",
    "| --- | --- | --- |\n",
    "| int | Bilangan bulat | 1, 2, 3, 4, 5 |\n",
    "| float | Bilangan pecahan | 1.2, 2.3, 3.4 |\n",
    "| str | String atau teks | \"satu\", \"dua\", \"tiga\" |\n",
    "| bool | Boolean | True, False |\n",
    "| list | Daftar | [1, 2, 3, 4, 5] |\n",
    "| tuple | Daftar yang tidak dapat diubah | (1, 2, 3, 4, 5) |\n",
    "| dict | Kamus | {\"nama\": \"Andi\", \"umur\": 22} |\n",
    "| set | Himpunan | {1, 2, 3, 4, 5} |"
   ]
  },
  {
   "cell_type": "markdown",
   "metadata": {},
   "source": [
    "Buatlah sebuah program python dimana user harus memberikan input nama dan umur lalu output program yaitu selamat datang <nama_user> Umur anda sekarang adalah <umur_user>"
   ]
  },
  {
   "cell_type": "code",
   "execution_count": null,
   "metadata": {},
   "outputs": [
    {
     "name": "stdout",
     "output_type": "stream",
     "text": [
      "Selamat datang Arsya Umur anda sekarang adalah 18 tahun\n"
     ]
    }
   ],
   "source": [
    "nama_user = input(\"Masukkan nama user: \")\n",
    "umur_user = input(\"Masukkan umur user: \")\n",
    "\n",
    "print(\"Selamat datang\", nama_user, \"Umur anda sekarang adalah\", umur_user, \"tahun\")"
   ]
  },
  {
   "cell_type": "markdown",
   "metadata": {
    "notebookRunGroups": {
     "groupValue": ""
    }
   },
   "source": [
    "## Aritmatika"
   ]
  },
  {
   "cell_type": "markdown",
   "metadata": {},
   "source": [
    "Arithmetic Operators adalah operator yang digunakan untuk melakukan operasi matematika yang umum. Berikut adalah daftar operator aritmatika yang ada di Python:\n",
    "\n",
    "| Operator | Arti | Contoh |\n",
    "| --- | --- | --- |\n",
    "| + | Penjumlahan | 2 + 3 = 5 |\n",
    "| - | Pengurangan | 5 - 2 = 3 |\n",
    "| * | Perkalian | 2 * 3 = 6 |\n",
    "| / | Pembagian | 6 / 2 = 3 |\n",
    "| % | Modulus | 5 % 2 = 1 |\n",
    "| ** | Perpangkatan | 2 ** 3 = 8 |\n",
    "| // | Pembagian dengan hasil pembulatan flooring | 5 // 2 = 2 |\n",
    "\n"
   ]
  },
  {
   "cell_type": "markdown",
   "metadata": {},
   "source": [
    "Buatlah program kalkulator sederhana untuk pertambahan 3 buah bilangan yang diinput oleh user contohnya:\n",
    "input a=1\n",
    "input b =2\n",
    "input c=3\n",
    "lalu mengeluarkan output"
   ]
  },
  {
   "cell_type": "code",
   "execution_count": 1,
   "metadata": {},
   "outputs": [
    {
     "name": "stdout",
     "output_type": "stream",
     "text": [
      "nilai a + b + C =  343\n"
     ]
    }
   ],
   "source": [
    "a = input(\"Masukkan nilai a: \")\n",
    "b = input(\"Masukkan nilai b: \")\n",
    "c = input(\"Masukkan nilai c: \")\n",
    "\n",
    "print(\"nilai a + b + C = \", a + b + c)"
   ]
  },
  {
   "cell_type": "markdown",
   "metadata": {},
   "source": [
    "Buatlah program konversi temperatur dengan input celcius"
   ]
  },
  {
   "cell_type": "code",
   "execution_count": 4,
   "metadata": {},
   "outputs": [
    {
     "name": "stdout",
     "output_type": "stream",
     "text": [
      "Suhu dalam celcius adalah 32.0 C\n",
      "Suhu dalam reamur adalah 25.6 R\n",
      "Suhu dalam fahrenhait adalah 89.6 F\n",
      "Suhu dalam kelvin adalah 305.0 K\n"
     ]
    }
   ],
   "source": [
    "celcius = float(input(\"Masukkan suhu dalam celcius: \"))\n",
    "\n",
    "reamur = (4/5) * celcius\n",
    "\n",
    "fahrenhait = ((9/5) * celcius) + 32\n",
    "\n",
    "kelvin =  celcius + 273\n",
    "\n",
    "\n",
    "print(\"Suhu dalam celcius adalah\", celcius, \"C\")\n",
    "print(\"Suhu dalam reamur adalah\", reamur, \"R\")\n",
    "print(\"Suhu dalam fahrenhait adalah\", fahrenhait, \"F\")\n",
    "print(\"Suhu dalam kelvin adalah\", kelvin, \"K\")"
   ]
  },
  {
   "cell_type": "markdown",
   "metadata": {},
   "source": [
    "Buatlah program sederhana untuk mengkonversi fahrenheit ke kelvin"
   ]
  },
  {
   "cell_type": "code",
   "execution_count": 5,
   "metadata": {},
   "outputs": [
    {
     "name": "stdout",
     "output_type": "stream",
     "text": [
      "Suhu dalam fahrenhait adalah 40.0 F\n",
      "Suhu dalam kelvin adalah 277.44444444444446 K\n"
     ]
    }
   ],
   "source": [
    "fahrenhait = float(input(\"Masukkan suhu dalam fahrenhait: \"))\n",
    "\n",
    "kelvin = (5/9) * (fahrenhait - 32) + 273\n",
    "\n",
    "print(\"Suhu dalam fahrenhait adalah\", fahrenhait, \"F\")\n",
    "print(\"Suhu dalam kelvin adalah\", kelvin, \"K\")"
   ]
  },
  {
   "cell_type": "markdown",
   "metadata": {},
   "source": [
    "Buatlah program sederhana untuk mengkonversi kelvin ke fahrenheit"
   ]
  },
  {
   "cell_type": "code",
   "execution_count": 6,
   "metadata": {},
   "outputs": [
    {
     "name": "stdout",
     "output_type": "stream",
     "text": [
      "Suhu dalam kelvin adalah 70.0 K\n",
      "Suhu dalam fahrenhait adalah -333.40000000000003 F\n"
     ]
    }
   ],
   "source": [
    "kelvin = float(input(\"Masukkan suhu dalam kelvin: \"))\n",
    "\n",
    "fahrenhait = (9/5) * (kelvin - 273) + 32\n",
    "\n",
    "print(\"Suhu dalam kelvin adalah\", kelvin, \"K\")\n",
    "print(\"Suhu dalam fahrenhait adalah\", fahrenhait, \"F\")"
   ]
  },
  {
   "cell_type": "markdown",
   "metadata": {},
   "source": [
    "## Comparison"
   ]
  },
  {
   "cell_type": "markdown",
   "metadata": {},
   "source": [
    "Macam-macam operator komparasi di python:\n",
    "\n",
    "| Operator | Description |\n",
    "| --- | --- |\n",
    "| > | Greater than |\n",
    "| < | Less than |\n",
    "| >= | Greater than or equal to |\n",
    "| <= | Less than or equal to |\n",
    "| == | Equal to |\n",
    "| != | Not equal to |\n",
    "| is | Object identity |\n",
    "| is not | Negated object identity |\n",
    "\n",
    "Setiap operator komparasi akan menghasilkan nilai boolean"
   ]
  },
  {
   "cell_type": "code",
   "execution_count": 8,
   "metadata": {},
   "outputs": [
    {
     "name": "stdout",
     "output_type": "stream",
     "text": [
      "3 > 2 =  True\n",
      "3 < 2 =  False\n",
      "3 >= 2 =  True\n",
      "3 <= 2 =  False\n",
      "2 == 2 =  False\n",
      "2 == 2 =  True\n",
      "3 != 2 =  True\n"
     ]
    }
   ],
   "source": [
    "x = 3\n",
    "y = 2\n",
    "z = 2\n",
    "\n",
    "hasil= x>y\n",
    "print(\"3 > 2 = \", hasil)\n",
    "\n",
    "hasil= x<y\n",
    "print(\"3 < 2 = \", hasil)\n",
    "\n",
    "hasil= x>=y\n",
    "print(\"3 >= 2 = \", hasil)\n",
    "\n",
    "hasil= x<=y\n",
    "print(\"3 <= 2 = \", hasil)\n",
    "\n",
    "hasil= x==y\n",
    "print(\"2 == 2 = \", hasil)\n",
    "\n",
    "hasil= y==z\n",
    "print(\"2 == 2 = \", hasil)\n",
    "\n",
    "hasil= x!=y\n",
    "print(\"3 != 2 = \", hasil)\n",
    "\n"
   ]
  },
  {
   "cell_type": "markdown",
   "metadata": {},
   "source": [
    "Operator komparasi **\"is\"** dan **\"is not\"** digunakan untuk membandingkan identity dari suatu object"
   ]
  },
  {
   "cell_type": "code",
   "execution_count": 10,
   "metadata": {},
   "outputs": [
    {
     "name": "stdout",
     "output_type": "stream",
     "text": [
      "nilai x = 4 , id =  0x7f6b2da08150\n",
      "nilai y = 4 , id =  0x7f6b2da08150\n",
      "0x7f6b2da08150 adalah memory address dari x dan y\n",
      "x is y = True\n"
     ]
    }
   ],
   "source": [
    "x = 4\n",
    "y = 4\n",
    "\n",
    "print('nilai x =', x, ', id = ', hex(id(x)))\n",
    "print('nilai y =', y, ', id = ', hex(id(y)))\n",
    "print(hex(id(x)), 'adalah memory address dari x dan y')\n",
    "\n",
    "hasil = x is y\n",
    "print('x is y =', hasil)"
   ]
  },
  {
   "cell_type": "code",
   "execution_count": 11,
   "metadata": {},
   "outputs": [
    {
     "name": "stdout",
     "output_type": "stream",
     "text": [
      "nilai x = 5 , id =  0x7f6b2da08170\n",
      "nilai y = 4 , id =  0x7f6b2da08150\n",
      "x is not y = True\n"
     ]
    }
   ],
   "source": [
    "x = 5\n",
    "y = 4\n",
    "\n",
    "print('nilai x =', x, ', id = ', hex(id(x)))\n",
    "print('nilai y =', y, ', id = ', hex(id(y)))\n",
    "\n",
    "hasil = x is not y\n",
    "print('x is not y =', hasil)"
   ]
  },
  {
   "cell_type": "markdown",
   "metadata": {},
   "source": [
    "## Logika"
   ]
  },
  {
   "cell_type": "markdown",
   "metadata": {},
   "source": [
    "Macam-macam operator logika di python:\n",
    "\n",
    "| Operator | Keterangan | Contoh |\n",
    "| --- | --- | --- |\n",
    "| `and` | Menghasilkan nilai `True` jika semua nilai yang dibandingkan bernilai `True` | `True and False` menghasilkan `False` |\n",
    "| `or` | Menghasilkan nilai `True` jika salah satu nilai yang dibandingkan bernilai `True` | `True or False` menghasilkan `True` |\n",
    "| `not` | Menghasilkan nilai `True` jika nilai yang dibandingkan bernilai `False` | `not True` menghasilkan `False` |\n",
    "| `xor` | Menghasilkan nilai `True` jika salah satu nilai yang dibandingkan bernilai `True` dan salah satu nilai yang dibandingkan bernilai `False` | `True xor False` menghasilkan `True` |\n"
   ]
  },
  {
   "cell_type": "code",
   "execution_count": 14,
   "metadata": {},
   "outputs": [
    {
     "name": "stdout",
     "output_type": "stream",
     "text": [
      "False AND False = False\n",
      "False AND True = False\n",
      "True AND False = False\n",
      "True AND True = True\n"
     ]
    }
   ],
   "source": [
    "# AND\n",
    "\n",
    "a = False\n",
    "b = False\n",
    "c = a and b\n",
    "print(a, 'AND', b, '=', c)\n",
    "\n",
    "a = False\n",
    "b = True\n",
    "c = a and b\n",
    "print(a, 'AND', b, '=', c)\n",
    "\n",
    "a = True\n",
    "b = False\n",
    "c = a and b\n",
    "print(a, 'AND', b, '=', c)\n",
    "\n",
    "a = True\n",
    "b = True\n",
    "c = a and b\n",
    "print(a, 'AND', b, '=', c)"
   ]
  },
  {
   "cell_type": "code",
   "execution_count": 15,
   "metadata": {},
   "outputs": [
    {
     "name": "stdout",
     "output_type": "stream",
     "text": [
      "False OR False = False\n",
      "False OR True = True\n",
      "True OR False = True\n",
      "True OR True = True\n"
     ]
    }
   ],
   "source": [
    "# OR\n",
    "\n",
    "a = False\n",
    "b = False\n",
    "c = a or b\n",
    "print(a, 'OR', b, '=', c)\n",
    "\n",
    "a = False\n",
    "b = True\n",
    "c = a or b\n",
    "print(a, 'OR', b, '=', c)\n",
    "\n",
    "a = True\n",
    "b = False\n",
    "c = a or b\n",
    "print(a, 'OR', b, '=', c)\n",
    "\n",
    "a = True\n",
    "b = True\n",
    "c = a or b\n",
    "print(a, 'OR', b, '=', c)"
   ]
  },
  {
   "cell_type": "code",
   "execution_count": 16,
   "metadata": {},
   "outputs": [
    {
     "name": "stdout",
     "output_type": "stream",
     "text": [
      "NOT True = False\n",
      "NOT False = True\n"
     ]
    }
   ],
   "source": [
    "# NOT\n",
    "\n",
    "a = True\n",
    "c = not a\n",
    "print('NOT', a, '=', c)\n",
    "\n",
    "a = False\n",
    "c = not a\n",
    "print('NOT', a, '=', c)"
   ]
  },
  {
   "cell_type": "code",
   "execution_count": 17,
   "metadata": {},
   "outputs": [
    {
     "name": "stdout",
     "output_type": "stream",
     "text": [
      "False XOR False = False\n",
      "False XOR True = True\n",
      "True XOR False = True\n",
      "True XOR True = False\n"
     ]
    }
   ],
   "source": [
    "# XOR\n",
    "\n",
    "a = False\n",
    "b = False\n",
    "c = a ^ b\n",
    "print(a, 'XOR', b, '=', c)\n",
    "\n",
    "a = False\n",
    "b = True\n",
    "c = a ^ b\n",
    "print(a, 'XOR', b, '=', c)\n",
    "\n",
    "a = True\n",
    "b = False\n",
    "c = a ^ b\n",
    "print(a, 'XOR', b, '=', c)\n",
    "\n",
    "a = True\n",
    "b = True\n",
    "c = a ^ b\n",
    "print(a, 'XOR', b, '=', c)"
   ]
  },
  {
   "cell_type": "markdown",
   "metadata": {},
   "source": [
    "### Latihan Logika dan Komparasi"
   ]
  },
  {
   "cell_type": "markdown",
   "metadata": {},
   "source": [
    "Buat program dengan inputan angka yang mengeluarkan nilai True jika angka tersebut merupakan **0 < x < 5 dan 8 < x < 11**"
   ]
  },
  {
   "cell_type": "code",
   "execution_count": 25,
   "metadata": {},
   "outputs": [
    {
     "name": "stdout",
     "output_type": "stream",
     "text": [
      "Angka yang anda masukkan adalah 1.0 sehingga True\n"
     ]
    }
   ],
   "source": [
    "input_user = float(input(\"Masukkan angka: \"))\n",
    "\n",
    "hasil = (input_user > 0) and (input_user < 5) or (input_user > 8) and (input_user < 11)\n",
    "\n",
    "print(\"Angka yang anda masukkan adalah\", input_user, \"sehingga\", hasil)"
   ]
  },
  {
   "cell_type": "markdown",
   "metadata": {},
   "source": [
    "Buat program dengan inputan angka yang mengeluarkan nilai True jika angka tersebut merupakan x < 0 dan 5 < x < 8 dan  11 < x"
   ]
  },
  {
   "cell_type": "code",
   "execution_count": 30,
   "metadata": {},
   "outputs": [
    {
     "name": "stdout",
     "output_type": "stream",
     "text": [
      "Angka yang anda masukkan adalah -7.0 sehingga True\n"
     ]
    }
   ],
   "source": [
    "input_user = float(input(\"Masukkan angka: \"))\n",
    "\n",
    "hasil = (input_user < 0) or (input_user > 5) and (input_user < 8) or (input_user > 11)\n",
    "\n",
    "print(\"Angka yang anda masukkan adalah\", input_user, \"sehingga\", hasil)"
   ]
  },
  {
   "cell_type": "markdown",
   "metadata": {},
   "source": [
    "## Membership"
   ]
  },
  {
   "cell_type": "markdown",
   "metadata": {},
   "source": [
    "## Assignment"
   ]
  },
  {
   "cell_type": "markdown",
   "metadata": {},
   "source": [
    "| Operator | Keterangan | Contoh |\n",
    "| --- | --- | --- |\n",
    "| `=` | Menyimpan nilai | `a = 5` |\n",
    "| `+=` | Menjumlahkan nilai | `a += 5` sama dengan `a = a + 5` |\n",
    "| `-=` | Mengurangi nilai | `a -= 5` sama dengan `a = a - 5` |\n",
    "| `*=` | Mengalikan nilai | `a *= 5` sama dengan `a = a * 5` |\n",
    "| `/=` | Membagi nilai | `a /= 5` sama dengan `a = a / 5` |\n",
    "| `%=` | Mengambil sisa bagi | `a %= 5` sama dengan `a = a % 5` |\n",
    "| `**=` | Memangkatkan nilai | `a **= 5` sama dengan `a = a ** 5` |\n",
    "| `//=` | Membagi lalu dibulatkan kebawah | `a //= 5` sama dengan `a = a // 5` |\n",
    "| `&=` | Operasi bitwise AND | `a &= 5` sama dengan `a = a & 5` |\n",
    "| `\\|=` | Operasi bitwise OR | `a \\|= 5` sama dengan `a = a \\| 5` |\n",
    "| `^=` | Operasi bitwise XOR | `a ^= 5` sama dengan `a = a ^ 5` |\n",
    "| `>>=` | Operasi bitwise right shift | `a >>= 5` sama dengan `a = a >> 5` |\n",
    "| `<<=` | Operasi bitwise left shift | `a <<= 5` sama dengan `a = a << 5` |\n"
   ]
  },
  {
   "cell_type": "code",
   "execution_count": 6,
   "metadata": {},
   "outputs": [
    {
     "name": "stdout",
     "output_type": "stream",
     "text": [
      "nilai x = 5\n",
      "nilai x + 1 = 6\n"
     ]
    }
   ],
   "source": [
    "x = 5\n",
    "print('nilai x =', x)\n",
    "\n",
    "x = x + 1\n",
    "print('nilai x + 1 =', x)\n"
   ]
  },
  {
   "cell_type": "code",
   "execution_count": 7,
   "metadata": {},
   "outputs": [
    {
     "name": "stdout",
     "output_type": "stream",
     "text": [
      "nilai x = 5\n",
      "nilai x += 1 = 6\n"
     ]
    }
   ],
   "source": [
    "x = 5\n",
    "print('nilai x =', x)\n",
    "\n",
    "x += 1\n",
    "print('nilai x += 1 =', x)"
   ]
  },
  {
   "cell_type": "code",
   "execution_count": 2,
   "metadata": {},
   "outputs": [
    {
     "name": "stdout",
     "output_type": "stream",
     "text": [
      "nilai x = 5\n",
      "nilai x //= 5 = 1\n"
     ]
    }
   ],
   "source": [
    "x = 5\n",
    "print('nilai x =', x)\n",
    "\n",
    "x//= 5\n",
    "print('nilai x //= 5 =', x)"
   ]
  },
  {
   "cell_type": "markdown",
   "metadata": {},
   "source": [
    "## String"
   ]
  },
  {
   "cell_type": "markdown",
   "metadata": {},
   "source": [
    "### Tipe-tipe String"
   ]
  },
  {
   "cell_type": "markdown",
   "metadata": {},
   "source": [
    "String adalah tipe data yang berisi kumpulan karakter unicode. String di python diapit oleh tanda petik.\n",
    "\n",
    "```\n",
    "Contoh: 'Hello World', \"Hello World\", \"\"\"Hello World\"\"\", '''Hello World'''\n",
    "```\n",
    "\n",
    "String di python bersifat immutable, artinya tidak dapat diubah setelah dideklarasikan"
   ]
  },
  {
   "cell_type": "code",
   "execution_count": 2,
   "metadata": {},
   "outputs": [
    {
     "name": "stdout",
     "output_type": "stream",
     "text": [
      "mari sholat jum'at\n"
     ]
    }
   ],
   "source": [
    "print('mari sholat jum\\'at')"
   ]
  },
  {
   "cell_type": "code",
   "execution_count": 3,
   "metadata": {},
   "outputs": [
    {
     "ename": "SyntaxError",
     "evalue": "(unicode error) 'unicodeescape' codec can't decode bytes in position 2-3: truncated \\UXXXXXXXX escape (740601969.py, line 1)",
     "output_type": "error",
     "traceback": [
      "\u001b[0;36m  Cell \u001b[0;32mIn[3], line 1\u001b[0;36m\u001b[0m\n\u001b[0;31m    print(\"C:\\User\\Ucup\")\u001b[0m\n\u001b[0m                        ^\u001b[0m\n\u001b[0;31mSyntaxError\u001b[0m\u001b[0;31m:\u001b[0m (unicode error) 'unicodeescape' codec can't decode bytes in position 2-3: truncated \\UXXXXXXXX escape\n"
     ]
    }
   ],
   "source": [
    "print(\"C:\\User\\Ucup\")"
   ]
  },
  {
   "cell_type": "markdown",
   "metadata": {},
   "source": [
    "Akan error karena \\ adalah karakter escape, yang artinya karakter selanjutnya akan dianggap sebagai karakter khusus.\n",
    "\n",
    "Untuk mengatasi error tersebut, kita dapat menggunakan raw string dengan menambahkan huruf **r** sebelum string\n"
   ]
  },
  {
   "cell_type": "code",
   "execution_count": 7,
   "metadata": {},
   "outputs": [
    {
     "name": "stdout",
     "output_type": "stream",
     "text": [
      "C:\\User\\Ucup\n",
      "C:\\User\\Ucup\n"
     ]
    }
   ],
   "source": [
    "print(r\"C:\\User\\Ucup\")\n",
    "#or\n",
    "print(\"C:\\\\User\\\\Ucup\")"
   ]
  },
  {
   "cell_type": "markdown",
   "metadata": {},
   "source": [
    "\\n digunakan untuk membuat baris baru"
   ]
  },
  {
   "cell_type": "code",
   "execution_count": 10,
   "metadata": {},
   "outputs": [
    {
     "name": "stdout",
     "output_type": "stream",
     "text": [
      "Ucup berkata \"kemaren kemana bro?\" \n",
      "Udin menjawab \"kemaren bobo bro\"\n"
     ]
    }
   ],
   "source": [
    "print(\"Ucup berkata \\\"kemaren kemana bro?\\\" \\nUdin menjawab \\\"kemaren bobo bro\\\"\")"
   ]
  },
  {
   "cell_type": "markdown",
   "metadata": {},
   "source": [
    "Multiline String adalah string yang ditulis dalam beberapa baris seperti comment"
   ]
  },
  {
   "cell_type": "code",
   "execution_count": 14,
   "metadata": {},
   "outputs": [
    {
     "name": "stdout",
     "output_type": "stream",
     "text": [
      " \n",
      "    Ucup berkata \"kemaren kemana bro?\", \n",
      "    kemudian udin menjawab \"kemaren bobo bro\".\n",
      "    ah lu mah tidur mulu din!\n",
      "    \n"
     ]
    }
   ],
   "source": [
    "print(\n",
    "    \"\"\" \n",
    "    Ucup berkata \"kemaren kemana bro?\", \n",
    "    kemudian udin menjawab \"kemaren bobo bro\".\n",
    "    ah lu mah tidur mulu din!\n",
    "    \"\"\")"
   ]
  },
  {
   "cell_type": "markdown",
   "metadata": {},
   "source": [
    "### Operator, Method, dan Format String"
   ]
  },
  {
   "cell_type": "markdown",
   "metadata": {},
   "source": [
    "#### Operator String"
   ]
  },
  {
   "cell_type": "markdown",
   "metadata": {},
   "source": [
    "Macam-macam operator string di python:\n",
    "\n",
    "```\n",
    "\"+, *, [], [:], in, not in\"\n",
    "```"
   ]
  },
  {
   "cell_type": "markdown",
   "metadata": {},
   "source": [
    "1. operator **\"+\"** digunakan untuk menggabungkan string"
   ]
  },
  {
   "cell_type": "code",
   "execution_count": 15,
   "metadata": {},
   "outputs": [
    {
     "name": "stdout",
     "output_type": "stream",
     "text": [
      "Ucup D Fame\n"
     ]
    }
   ],
   "source": [
    "first_name = \"Ucup\"\n",
    "middle_name = \"D\"\n",
    "last_name = \"Fame\"\n",
    "\n",
    "name = first_name + \" \" + middle_name + \" \" + last_name\n",
    "\n",
    "print(name)"
   ]
  },
  {
   "cell_type": "markdown",
   "metadata": {},
   "source": [
    "2. operator **\"*\"** digunakan untuk mengulang string"
   ]
  },
  {
   "cell_type": "code",
   "execution_count": 16,
   "metadata": {},
   "outputs": [
    {
     "data": {
      "text/plain": [
       "'Ucup D FameUcup D FameUcup D Fame'"
      ]
     },
     "execution_count": 16,
     "metadata": {},
     "output_type": "execute_result"
    }
   ],
   "source": [
    "name*3"
   ]
  },
  {
   "cell_type": "markdown",
   "metadata": {},
   "source": [
    "3. operator **\"[]\"** dan **[:]** digunakan untuk mengakses karakter dalam string berdasarkan index"
   ]
  },
  {
   "cell_type": "code",
   "execution_count": 17,
   "metadata": {},
   "outputs": [
    {
     "name": "stdout",
     "output_type": "stream",
     "text": [
      "U\n",
      "cup\n",
      "p D Fame\n",
      "Ucup\n"
     ]
    }
   ],
   "source": [
    "print(name[0])\n",
    "\n",
    "print(name[1:4])\n",
    "\n",
    "print(name[3:])\n",
    "\n",
    "print(name[:4])"
   ]
  },
  {
   "cell_type": "markdown",
   "metadata": {},
   "source": [
    "4. operator **\"in\"** dan **\"not in\"** digunakan untuk mengecek apakah suatu string berisi karakter/kata tertentu"
   ]
  },
  {
   "cell_type": "code",
   "execution_count": 21,
   "metadata": {},
   "outputs": [
    {
     "name": "stdout",
     "output_type": "stream",
     "text": [
      "d ada di Ucup D. Fame = False\n"
     ]
    }
   ],
   "source": [
    "d = \"d\"\n",
    "\n",
    "name = \"Ucup D. Fame\"\n",
    "\n",
    "status = d in name\n",
    "\n",
    "print(d, \"ada di\", name, \"=\", str(status))"
   ]
  },
  {
   "cell_type": "markdown",
   "metadata": {},
   "source": [
    "1. False karena python bersifat case sensitive dan D huruf kapital sedangkan d adalah huruf kecil\n",
    "2. str() digunakan untuk mengubah tipe data lain ke string"
   ]
  },
  {
   "cell_type": "code",
   "execution_count": 22,
   "metadata": {},
   "outputs": [
    {
     "name": "stdout",
     "output_type": "stream",
     "text": [
      "D ada di Ucup D. Fame = True\n"
     ]
    }
   ],
   "source": [
    "d = \"D\"\n",
    "\n",
    "name = \"Ucup D. Fame\"\n",
    "\n",
    "status = d in name\n",
    "\n",
    "print(d, \"ada di\", name, \"=\", str(status))"
   ]
  },
  {
   "cell_type": "markdown",
   "metadata": {},
   "source": [
    "#### Method String"
   ]
  },
  {
   "cell_type": "markdown",
   "metadata": {},
   "source": [
    "Macam-macam method string di python:\n",
    "\n",
    "```\n",
    "len(), str(), upper(), lower(), strip(), replace(), split(), join(), count(), ljust(), rjust(), center(), zfill(), isX(), startswith(), endswith(), find(), rfind(), index(), rindex(), capitalize(), title(), swapcase(), format(), isalnum(), isalpha(), isdecimal(), isdigit(), isidentifier(), islower(), isnumeric(), isprintable(), isspace(), istitle(), isupper(), encode(), maketrans(), translate(), expandtabs()\n",
    "```"
   ]
  },
  {
   "cell_type": "markdown",
   "metadata": {},
   "source": [
    "Merubah String ke Upper Case menggunakan method **upper()** dan merubah String ke Lower Case menggunakan method **lower()**"
   ]
  },
  {
   "cell_type": "code",
   "execution_count": 25,
   "metadata": {},
   "outputs": [
    {
     "name": "stdout",
     "output_type": "stream",
     "text": [
      "Normal:  bro!\n",
      "Upper:  BRO!\n",
      "Normal:  aKu KeCe AbieZZZ\n",
      "Lower:  aku kece abiezzz\n"
     ]
    }
   ],
   "source": [
    "# Merubah lowercase ke uppercase\n",
    "salam = \"bro!\"\n",
    "print(\"Normal: \", salam)\n",
    "\n",
    "salam = salam.upper()\n",
    "print(\"Upper: \", salam)\n",
    "\n",
    "# Merubah uppercase ke lowercase\n",
    "alay = \"aKu KeCe AbieZZZ\"\n",
    "print(\"Normal: \", alay)\n",
    "\n",
    "alay = alay.lower()\n",
    "print(\"Lower: \", alay)"
   ]
  },
  {
   "cell_type": "markdown",
   "metadata": {},
   "source": [
    "Mengecek apakah string merupakan Upper Case atau Lower Case menggunakan method **isupper()** dan **islower()**"
   ]
  },
  {
   "cell_type": "code",
   "execution_count": 35,
   "metadata": {},
   "outputs": [
    {
     "name": "stdout",
     "output_type": "stream",
     "text": [
      "bro! \n",
      "\n",
      "lowercase? =  True\n",
      "uppercase? =  False \n",
      "\n",
      "BRO! \n",
      "\n",
      "lowercase? =  False\n",
      "uppercase? =  True\n"
     ]
    }
   ],
   "source": [
    "salam = \"bro!\"\n",
    "print(salam, \"\\n\")\n",
    "print(\"lowercase? = \", str(salam.islower())) # hasilnya boolean sehingga harus diubah ke string menggunakan str()\n",
    "print(\"uppercase? = \", str(salam.isupper()), \"\\n\")\n",
    "\n",
    "\n",
    "salam = \"BRO!\"\n",
    "print(salam, \"\\n\")\n",
    "print(\"lowercase? = \", str(salam.islower())) # hasilnya boolean sehingga harus diubah ke string menggunakan str()\n",
    "print(\"uppercase? = \", str(salam.isupper()))\n"
   ]
  },
  {
   "cell_type": "markdown",
   "metadata": {},
   "source": [
    "#### Format String"
   ]
  },
  {
   "cell_type": "markdown",
   "metadata": {},
   "source": [
    "format string adalah cara untuk melakukan operasi formatting pada string dengan menggunakan **{ }** sebagai placeholder\n",
    "\n",
    "```\n",
    "Contoh: f\"Hello {0} {1}, selamat datang di {2}\".format(\"Budi\", \"Susanto\", \"Kelas Terbuka\")\n",
    "```"
   ]
  },
  {
   "cell_type": "code",
   "execution_count": 3,
   "metadata": {},
   "outputs": [
    {
     "name": "stdout",
     "output_type": "stream",
     "text": [
      "halo Ucup, umur kamu 14 tahun\n"
     ]
    }
   ],
   "source": [
    "nama_user = input(\"Masukkan nama user: \")\n",
    "umur_user = input(\"Masukkan umur user: \")\n",
    "\n",
    "format_str = f\"halo {nama_user}, umur kamu {umur_user} tahun\"\n",
    "\n",
    "print(format_str)"
   ]
  },
  {
   "cell_type": "markdown",
   "metadata": {},
   "source": [
    "**{:,}** digunakan untuk menambahkan pemisah ribuan "
   ]
  },
  {
   "cell_type": "code",
   "execution_count": 5,
   "metadata": {},
   "outputs": [
    {
     "name": "stdout",
     "output_type": "stream",
     "text": [
      "harga motor ini 4,000,000\n"
     ]
    }
   ],
   "source": [
    "angka = 4000000\n",
    "\n",
    "harga_motor = f\"harga motor ini {angka:,}\"\n",
    "\n",
    "print (harga_motor)"
   ]
  },
  {
   "cell_type": "markdown",
   "metadata": {},
   "source": [
    "**{:%}** digunakan untuk menambahkan persentase"
   ]
  },
  {
   "cell_type": "code",
   "execution_count": 6,
   "metadata": {},
   "outputs": [
    {
     "name": "stdout",
     "output_type": "stream",
     "text": [
      "PPN = 4.50%\n"
     ]
    }
   ],
   "source": [
    "persen = 0.045\n",
    "\n",
    "print(f\"PPN = {persen:.2%}\")"
   ]
  },
  {
   "cell_type": "markdown",
   "metadata": {},
   "source": [
    "Format lain yang dapat digunakan pada format string:\n",
    "    \n",
    "    ```\n",
    "    {:d} untuk integer\n",
    "    {:f} untuk float\n",
    "    {:.2f} untuk float dengan 2 angka di belakang koma\n",
    "    {:.2%} untuk persentase dengan 2 angka di belakang koma\n",
    "    {:,} untuk pemisah ribuan\n",
    "    ```\n",
    "\n",
    "selain yang disebutkan diatas, operasi formatting lainnya dapat dilihat di [https://docs.python.org/3/library/string.html](https://docs.python.org/3/library/string.html)"
   ]
  },
  {
   "cell_type": "markdown",
   "metadata": {},
   "source": [
    "Multiline String adalah string yang ditulis dalam beberapa baris seperti comment\n"
   ]
  },
  {
   "cell_type": "markdown",
   "metadata": {},
   "source": [
    "### Latihan String"
   ]
  },
  {
   "cell_type": "code",
   "execution_count": 9,
   "metadata": {},
   "outputs": [
    {
     "name": "stdout",
     "output_type": "stream",
     "text": [
      "Nama Anda adalah Arsya, umur Anda 18 tahun\n"
     ]
    }
   ],
   "source": [
    "import datetime as dt\n",
    "\n",
    "\n",
    "nama = str(input(\"Masukkan nama: \"))\n",
    "tgl_lahir = int(input(\"Masukkan tanggal lahir (dd): \"))\n",
    "bulan_lahir = int(input(\"Masukkan bulan lahir (mm): \"))\n",
    "tahun_lahir = int(input(\"Masukkan tahun lahir (yyyy): \"))\n",
    "\n",
    "lahir = dt.datetime(year=tahun_lahir, month=bulan_lahir, day=tgl_lahir)\n",
    "sekarang = dt.datetime.now()\n",
    "\n",
    "# output is only year\n",
    "umur = sekarang - lahir\n",
    "umur = int(umur.days/365)\n",
    "\n",
    "print(f\"Nama Anda adalah {nama}, umur Anda {umur} tahun\")"
   ]
  },
  {
   "cell_type": "code",
   "execution_count": 4,
   "metadata": {},
   "outputs": [
    {
     "name": "stdout",
     "output_type": "stream",
     "text": [
      "Umur Arsya pada tahun 2023 adalah 18 tahun\n"
     ]
    }
   ],
   "source": [
    "nama = str(input(\"Masukkan nama: \"))\n",
    "tahun_lahir = int(input(\"Masukkan tahun lahir: \"))\n",
    "umur = 2023 - tahun_lahir\n",
    "\n",
    "print(f\"Umur {nama} pada tahun 2023 adalah {umur} tahun\")"
   ]
  },
  {
   "cell_type": "markdown",
   "metadata": {},
   "source": [
    "## Conditional"
   ]
  },
  {
   "cell_type": "markdown",
   "metadata": {},
   "source": [
    "### Tipe tipe kondisional di python"
   ]
  },
  {
   "cell_type": "markdown",
   "metadata": {},
   "source": [
    "Conditional adalah statement percabangan yang akan mengeksekusi kode jika bernilai benar atau salah, atau menguji beberapa kondisi yang berbeda. \n",
    "\n",
    "| Jenis Conditional | Keterangan | Ilustrasi |\n",
    "| --- | --- | --- |\n",
    "| if | Mengeksekusi kode jika kondisi bernilai benar | <img src=\"https://media.geeksforgeeks.org/wp-content/uploads/if-statement.jpg\" width=\"150\"> |\n",
    "| else | Mengeksekusi kode jika kondisi bernilai salah | <img src=\"https://media.geeksforgeeks.org/wp-content/uploads/if-else.jpg\" width=\"150\"> |\n",
    "| if else | Mengeksekusi kode jika kondisi bernilai benar, dan kode lain jika kondisi bernilai salah | <img src=\"https://media.geeksforgeeks.org/wp-content/uploads/if-elseif-ladder.jpg\" width=\"250\"> |\n",
    "| if elif else | Menguji beberapa kondisi yang berbeda, dan mengeksekusi kode yang sesuai dengan kondisi yang benar | <img src=\"https://media.geeksforgeeks.org/wp-content/uploads/nested-if.jpg\" width=\"250\"> |\n"
   ]
  },
  {
   "cell_type": "code",
   "execution_count": 1,
   "metadata": {},
   "outputs": [
    {
     "name": "stdout",
     "output_type": "stream",
     "text": [
      "Selamat anda lulus\n"
     ]
    }
   ],
   "source": [
    "# if else statement\n",
    "\n",
    "nilai = 9 #jika nilai lebih dari 7 maka lulus\n",
    "\n",
    "if nilai > 7:\n",
    "    print(\"Selamat anda lulus\")\n",
    "else:\n",
    "    print(\"Maaf anda tidak lulus\")"
   ]
  },
  {
   "cell_type": "code",
   "execution_count": 1,
   "metadata": {},
   "outputs": [
    {
     "name": "stdout",
     "output_type": "stream",
     "text": [
      "\n",
      "    Daftar Menu:\n",
      "    1. Mengeong\n",
      "    2. Merawr\n",
      "    3. Mengigit\n",
      "    4. Mencakar\n",
      "    \n",
      "    \n",
      " Merawr\n"
     ]
    }
   ],
   "source": [
    "# user choose the number from the list menu\n",
    "\n",
    "print(\n",
    "    '''\n",
    "    Daftar Menu:\n",
    "    1. Mengeong\n",
    "    2. Merawr\n",
    "    3. Mengigit\n",
    "    4. Mencakar\n",
    "    \n",
    "    '''\n",
    ")\n",
    "\n",
    "choose = int(input(\"Masukkan pilihan anda: \"))\n",
    "if choose == 1:\n",
    "    print(\" Meong\")\n",
    "elif choose == 2:\n",
    "    print(\" Merawr\")\n",
    "elif choose == 3:\n",
    "    print(\" Mengigit\")\n",
    "elif choose == 4:\n",
    "    print(\" Mencakar\")\n",
    "else:\n",
    "    print(\"Pilihan anda tidak ada di menu\")\n"
   ]
  },
  {
   "cell_type": "markdown",
   "metadata": {},
   "source": [
    "## Sequence dan Collection"
   ]
  },
  {
   "cell_type": "markdown",
   "metadata": {},
   "source": [
    "Sequence adalah tipe data yang berisi kumpulan data dengan tipe yang sama. \n",
    "\n",
    "| Tipe Data Sequence | Deskripsi | Contoh |\n",
    "| --- | --- | --- |\n",
    "| list | Kumpulan data yang dapat diubah (mutable) dan diindeks | [1, 2, 3, 4, 5] |\n",
    "| tuple | Kumpulan data yang tidak dapat diubah (immutable) dan diindeks | (1, 2, 3, 4, 5) |\n",
    "| range | Kumpulan bilangan integer berurutan | range(1, 6) |\n",
    "| set | Kumpulan data yang unik dan tidak diindeks | {1, 2, 3, 4, 5} |\n",
    "| frozenset | Kumpulan data yang unik dan tidak diindeks, tidak dapat diubah | frozenset({1, 2, 3, 4, 5}) |\n",
    "| dict | Kumpulan pasangan key-value yang tidak diindeks | {\"nama\": \"Andi\", \"umur\": 22} |\n"
   ]
  },
  {
   "cell_type": "markdown",
   "metadata": {},
   "source": [
    "### List"
   ]
  },
  {
   "cell_type": "markdown",
   "metadata": {},
   "source": [
    "List adalah tipe data yang berisi kumpulan data dengan tipe yang sama atau berbeda. List bersifat mutable, artinya list dapat diubah setelah dideklarasikan. \n",
    "\n",
    "Macam-macam method list di python:\n",
    "\n",
    "```\n",
    "append(), clear(), copy(), count(), extend(), index(), insert(), pop(), remove(), reverse(), sort()\n",
    "```"
   ]
  },
  {
   "cell_type": "code",
   "execution_count": 12,
   "metadata": {},
   "outputs": [
    {
     "name": "stdout",
     "output_type": "stream",
     "text": [
      "5\n",
      "<class 'list'>\n"
     ]
    }
   ],
   "source": [
    "buah = [\"apel\", \"jeruk\", \"ceri\", \"durian\", \"apel\"]\n",
    "\n",
    "print(len(buah))\n",
    "print(type(buah))"
   ]
  },
  {
   "cell_type": "markdown",
   "metadata": {},
   "source": [
    "Mengambil data dari list menggunakan index"
   ]
  },
  {
   "cell_type": "code",
   "execution_count": 13,
   "metadata": {},
   "outputs": [
    {
     "name": "stdout",
     "output_type": "stream",
     "text": [
      "ceri\n"
     ]
    }
   ],
   "source": [
    "print(buah[2])"
   ]
  },
  {
   "cell_type": "code",
   "execution_count": 16,
   "metadata": {},
   "outputs": [
    {
     "name": "stdout",
     "output_type": "stream",
     "text": [
      "['jeruk', 'ceri', 'durian']\n"
     ]
    }
   ],
   "source": [
    "print(buah[1:4])"
   ]
  },
  {
   "cell_type": "markdown",
   "metadata": {},
   "source": [
    "Menambah data ke list menggunakan method **append()**"
   ]
  },
  {
   "cell_type": "code",
   "execution_count": 21,
   "metadata": {},
   "outputs": [
    {
     "name": "stdout",
     "output_type": "stream",
     "text": [
      "['apel', 'jeruk', 'ceri', 'durian', 'apel', 'sirsak']\n"
     ]
    }
   ],
   "source": [
    "buah.append(\"sirsak\")\n",
    "\n",
    "print(buah)"
   ]
  },
  {
   "cell_type": "code",
   "execution_count": 22,
   "metadata": {},
   "outputs": [
    {
     "name": "stdout",
     "output_type": "stream",
     "text": [
      "['apel', 'jeruk', 'ceri', 'durian', 'apel', 'sirsak', 'mangga', 'jambu']\n"
     ]
    }
   ],
   "source": [
    "buah.extend([\"mangga\", \"jambu\"])\n",
    "\n",
    "print(buah)"
   ]
  },
  {
   "cell_type": "code",
   "execution_count": 25,
   "metadata": {},
   "outputs": [
    {
     "name": "stdout",
     "output_type": "stream",
     "text": [
      "['apel malang', 'jeruk', 'ceri', 'duku', 'duku', 'durian', 'apel', 'sirsak', 'mangga', 'jambu']\n"
     ]
    }
   ],
   "source": [
    "buah.insert(3, \"duku\")\n",
    "\n",
    "print(buah)"
   ]
  },
  {
   "cell_type": "markdown",
   "metadata": {},
   "source": [
    "Mengganti data pada list menggunakan index"
   ]
  },
  {
   "cell_type": "code",
   "execution_count": 26,
   "metadata": {},
   "outputs": [
    {
     "name": "stdout",
     "output_type": "stream",
     "text": [
      "['apel malang', 'jeruk', 'ceri', 'duku', 'duku', 'durian', 'apel', 'sirsak', 'mangga', 'jambu']\n"
     ]
    }
   ],
   "source": [
    "buah[0] = \"apel malang\"\n",
    "\n",
    "print(buah)"
   ]
  },
  {
   "cell_type": "markdown",
   "metadata": {},
   "source": [
    "Menghapus data pada list menggunakan method **pop()** dan **remove()**"
   ]
  },
  {
   "cell_type": "code",
   "execution_count": 27,
   "metadata": {},
   "outputs": [
    {
     "name": "stdout",
     "output_type": "stream",
     "text": [
      "['apel malang', 'jeruk', 'ceri', 'duku', 'durian', 'apel', 'sirsak', 'mangga', 'jambu']\n"
     ]
    }
   ],
   "source": [
    "buah.pop(3)\n",
    "\n",
    "print(buah)"
   ]
  },
  {
   "cell_type": "code",
   "execution_count": 28,
   "metadata": {},
   "outputs": [
    {
     "name": "stdout",
     "output_type": "stream",
     "text": [
      "['apel malang', 'jeruk', 'ceri', 'durian', 'apel', 'sirsak', 'mangga', 'jambu']\n"
     ]
    }
   ],
   "source": [
    "buah.remove(\"duku\")\n",
    "\n",
    "print(buah)"
   ]
  },
  {
   "cell_type": "markdown",
   "metadata": {},
   "source": [
    "#### List di dalam list"
   ]
  },
  {
   "cell_type": "code",
   "execution_count": 35,
   "metadata": {},
   "outputs": [
    {
     "name": "stdout",
     "output_type": "stream",
     "text": [
      "Kab. Malang\n"
     ]
    }
   ],
   "source": [
    "#create a list inside a list\n",
    "\n",
    "kabupaten = [[\"Kab. Malang\", \"Kab. Lumajang\", \"Kab. Probolinggo\", None], [\"Kab. Banyuwangi\", \"Kab. Jember\", \"Kab. Bondowoso\"], [\"Kab. Sumedaang\", \"Kab. Bandung\", \"Kab. Garut\"]]\n",
    "\n",
    "print (kabupaten[0][0])"
   ]
  },
  {
   "cell_type": "markdown",
   "metadata": {},
   "source": [
    "### Tuple"
   ]
  },
  {
   "cell_type": "markdown",
   "metadata": {},
   "source": [
    "Tuple adalah tipe data yang berisi kumpulan data dengan tipe yang sama atau berbeda. Tuple bersifat immutable, artinya tuple tidak dapat diubah setelah dideklarasikan.\n",
    "\n",
    "Macam-macam method tuple di python:\n",
    "\n",
    "```\n",
    "count(), index()\n",
    "```"
   ]
  },
  {
   "cell_type": "code",
   "execution_count": 37,
   "metadata": {},
   "outputs": [
    {
     "name": "stdout",
     "output_type": "stream",
     "text": [
      "<class 'tuple'>\n",
      "Honda\n"
     ]
    }
   ],
   "source": [
    "merk = (\"Honda\", \"Yamaha\", \"Suzuki\", \"Kawasaki\", \"Ducati\", \"KTM\", \"Vespa\", \"Piaggio\")\n",
    "\n",
    "print(type(merk))\n",
    "\n",
    "print(merk[0])"
   ]
  },
  {
   "cell_type": "code",
   "execution_count": 38,
   "metadata": {},
   "outputs": [
    {
     "ename": "TypeError",
     "evalue": "'tuple' object does not support item assignment",
     "output_type": "error",
     "traceback": [
      "\u001b[0;31m---------------------------------------------------------------------------\u001b[0m",
      "\u001b[0;31mTypeError\u001b[0m                                 Traceback (most recent call last)",
      "\u001b[1;32m/workspaces/codespaces-jupyter/notebooks/kelasterbuka-py.ipynb Cell 104\u001b[0m line \u001b[0;36m1\n\u001b[0;32m----> <a href='vscode-notebook-cell://codespaces%2Bprobable-space-giggle-5prx7wv47jhpx9v/workspaces/codespaces-jupyter/notebooks/kelasterbuka-py.ipynb#Y211sdnNjb2RlLXJlbW90ZQ%3D%3D?line=0'>1</a>\u001b[0m merk[\u001b[39m0\u001b[39;49m] \u001b[39m=\u001b[39m \u001b[39m\"\u001b[39m\u001b[39mToyota\u001b[39m\u001b[39m\"\u001b[39m\n\u001b[1;32m      <a href='vscode-notebook-cell://codespaces%2Bprobable-space-giggle-5prx7wv47jhpx9v/workspaces/codespaces-jupyter/notebooks/kelasterbuka-py.ipynb#Y211sdnNjb2RlLXJlbW90ZQ%3D%3D?line=2'>3</a>\u001b[0m \u001b[39mprint\u001b[39m (merk)\n",
      "\u001b[0;31mTypeError\u001b[0m: 'tuple' object does not support item assignment"
     ]
    }
   ],
   "source": [
    "merk[0] = \"Toyota\"\n",
    "\n",
    "print (merk)"
   ]
  },
  {
   "cell_type": "markdown",
   "metadata": {},
   "source": [
    "error karena tuple bersifat immutable dan tidak dapat diubah setelah dideklarasikan, kecuali jika kita mengubahnya menjadi list terlebih dahulu."
   ]
  },
  {
   "cell_type": "code",
   "execution_count": 39,
   "metadata": {},
   "outputs": [
    {
     "name": "stdout",
     "output_type": "stream",
     "text": [
      "('Toyota', 'Yamaha', 'Suzuki', 'Kawasaki', 'Ducati', 'KTM', 'Vespa', 'Piaggio')\n"
     ]
    }
   ],
   "source": [
    "merk_mutable = list(merk)\n",
    "merk_mutable[0] = \"Toyota\"\n",
    "merk = tuple(merk_mutable)\n",
    "\n",
    "print(merk)"
   ]
  },
  {
   "cell_type": "markdown",
   "metadata": {},
   "source": [
    "#### Packing dan Unpacking Tuple"
   ]
  },
  {
   "cell_type": "markdown",
   "metadata": {},
   "source": [
    "Pack tuple adalah proses membuat tuple menggunakan beberapa variabel sekaligus, sedangkan unpack tuple adalah proses mengambil data dari tuple dan menyimpannya ke beberapa variabel."
   ]
  },
  {
   "cell_type": "code",
   "execution_count": 40,
   "metadata": {},
   "outputs": [
    {
     "name": "stdout",
     "output_type": "stream",
     "text": [
      "('apel', 'jeruk', 'melon', 'semangka')\n"
     ]
    }
   ],
   "source": [
    "#packing\n",
    "\n",
    "a = \"apel\"\n",
    "b = \"jeruk\"\n",
    "c = \"melon\"\n",
    "d = \"semangka\"\n",
    "\n",
    "buah = (a, b, c, d)\n",
    "\n",
    "print(buah)"
   ]
  },
  {
   "cell_type": "code",
   "execution_count": 41,
   "metadata": {},
   "outputs": [
    {
     "name": "stdout",
     "output_type": "stream",
     "text": [
      "apel jeruk melon semangka\n"
     ]
    }
   ],
   "source": [
    "#unpacking\n",
    "\n",
    "buah1, buah2, buah3, buah4 = buah\n",
    "\n",
    "print(buah1, buah2, buah3, buah4)"
   ]
  },
  {
   "cell_type": "markdown",
   "metadata": {},
   "source": [
    "#### Penugasan List dan Tuple"
   ]
  },
  {
   "cell_type": "markdown",
   "metadata": {},
   "source": [
    "1. Buatlah sebuah list yaitu buah = [\"apel\", \"jeruk\", \"ceri\", \"durian\", \"apel\", \"mangga\"]\n",
    "\n",
    "    - Buatlah sebuah program untuk mengambil list ke 2-5 (jeruk-apel)\n",
    "    - Hapus item \"apel\" yang kedua\n",
    "    - Ganti item dengan nama \"ceri\" menjadi \"cheery\"\n",
    "    - Tambahkan item \"strawberry\" pada index ke 3\n",
    "    - Urutkan item pada list secara ascending"
   ]
  },
  {
   "cell_type": "code",
   "execution_count": 42,
   "metadata": {},
   "outputs": [
    {
     "name": "stdout",
     "output_type": "stream",
     "text": [
      "['apel', 'jeruk', 'ceri', 'durian', 'apel', 'mangga']\n"
     ]
    }
   ],
   "source": [
    "buah = [\"apel\", \"jeruk\", \"ceri\", \"durian\", \"apel\", \"mangga\"]\n",
    "print(buah)"
   ]
  },
  {
   "cell_type": "code",
   "execution_count": 44,
   "metadata": {},
   "outputs": [
    {
     "name": "stdout",
     "output_type": "stream",
     "text": [
      "['jeruk', 'ceri', 'durian', 'apel']\n"
     ]
    }
   ],
   "source": [
    "# mangambil list dari \"jeruk\" sampai \"apel\"\n",
    "ambilList = buah[1:5]\n",
    "print(ambilList)"
   ]
  },
  {
   "cell_type": "code",
   "execution_count": 45,
   "metadata": {},
   "outputs": [
    {
     "name": "stdout",
     "output_type": "stream",
     "text": [
      "['apel', 'jeruk', 'ceri', 'durian', 'apel']\n"
     ]
    }
   ],
   "source": [
    "hapusIndex = buah.pop(5)\n",
    "\n",
    "print(buah)"
   ]
  },
  {
   "cell_type": "code",
   "execution_count": 48,
   "metadata": {},
   "outputs": [
    {
     "name": "stdout",
     "output_type": "stream",
     "text": [
      "['apel', 'jeruk', 'ceri', 'strawberry', 'strawberry', 'strawberry', 'durian', 'apel']\n",
      "0\n",
      "1\n",
      "2\n",
      "3\n",
      "4\n",
      "5\n",
      "6\n",
      "7\n"
     ]
    }
   ],
   "source": [
    "# tambah \"strawberry\" setelah index 3\n",
    "\n",
    "buah.insert(3, \"strawberry\")\n",
    "\n",
    "print(buah)\n",
    "\n",
    "# print seluruh index number \n",
    "for i in range(len(buah)):\n",
    "    print(i)"
   ]
  },
  {
   "cell_type": "code",
   "execution_count": 54,
   "metadata": {},
   "outputs": [
    {
     "name": "stdout",
     "output_type": "stream",
     "text": [
      "['apel', 'apel', 'ceri', 'durian', 'jeruk', 'strawberry', 'strawberry', 'strawberry']\n"
     ]
    }
   ],
   "source": [
    "# sort buah as ascending\n",
    "buah.sort()\n",
    "\n",
    "print (buah)"
   ]
  },
  {
   "cell_type": "markdown",
   "metadata": {},
   "source": [
    "2. Buatlah sebuah tuple yaitu buah = (\"apel\", \"jeruk\", \"ceri\", \"durian\", \"apel\", \"mangga\")\n",
    "\n",
    "    - Buatlah sebuah program untuk mengambil tuple ke 2-5 (jeruk-apel)\n",
    "    - Manipulasi tuple tersebut menjadi list lalu hapus \"durian\" menggunakan methon pop()\n",
    "    - Manipulasi tuple buah agar ada tambahan item \"manggis\" diantara item \"jeruk\" dan \"ceri\""
   ]
  },
  {
   "cell_type": "code",
   "execution_count": 55,
   "metadata": {},
   "outputs": [
    {
     "name": "stdout",
     "output_type": "stream",
     "text": [
      "('apel', 'jeruk', 'ceri', 'durian', 'apel', 'mangga')\n"
     ]
    }
   ],
   "source": [
    "buah = (\"apel\", \"jeruk\", \"ceri\", \"durian\", \"apel\", \"mangga\")\n",
    "print(buah)"
   ]
  },
  {
   "cell_type": "code",
   "execution_count": 56,
   "metadata": {},
   "outputs": [
    {
     "name": "stdout",
     "output_type": "stream",
     "text": [
      "('apel', 'jeruk', 'ceri', 'apel', 'mangga')\n"
     ]
    }
   ],
   "source": [
    "# change tuple to list\n",
    "buah_list = list(buah)\n",
    "buah_list.pop(3)\n",
    "# change list to tuple\n",
    "buah = tuple(buah_list)\n",
    "\n",
    "print(buah)"
   ]
  },
  {
   "cell_type": "code",
   "execution_count": 57,
   "metadata": {},
   "outputs": [
    {
     "name": "stdout",
     "output_type": "stream",
     "text": [
      "('apel', 'jeruk', 'strawberry', 'ceri', 'apel', 'mangga')\n"
     ]
    }
   ],
   "source": [
    "buah_list = list(buah)\n",
    "buah_list.insert(2, \"strawberry\")\n",
    "# change list to tuple\n",
    "buah = tuple(buah_list)\n",
    "\n",
    "print(buah)"
   ]
  },
  {
   "cell_type": "markdown",
   "metadata": {
    "notebookRunGroups": {
     "groupValue": ""
    }
   },
   "source": [
    "### Set"
   ]
  },
  {
   "cell_type": "markdown",
   "metadata": {},
   "source": [
    "Set adalah tipe data yang berisi kumpulan data unik yang tidak berurutan. Set bersifat mutable, artinya set dapat diubah setelah dideklarasikan. \n",
    "\n",
    "Macam-macam method set di python:\n",
    "\n",
    "```\n",
    "add(), clear(), copy(), difference(), difference_update(), discard(), intersection(), intersection_update(), isdisjoint(), issubset(), issuperset(), pop(), remove(), symmetric_difference(), symmetric_difference_update(), union(), update()\n",
    "```"
   ]
  },
  {
   "cell_type": "code",
   "execution_count": 3,
   "metadata": {},
   "outputs": [
    {
     "name": "stdout",
     "output_type": "stream",
     "text": [
      "{'apel', 'mangga', 'jeruk', 'ceri', 'durian'}\n"
     ]
    }
   ],
   "source": [
    "fruit = {\"apel\", \"jeruk\", \"ceri\", \"durian\", \"apel\", \"mangga\"}\n",
    "\n",
    "print(fruit)"
   ]
  },
  {
   "cell_type": "markdown",
   "metadata": {},
   "source": [
    "Set bersifat unik, artinya tidak ada data yang duplikat.\n",
    "Set bersifat unordered, artinya tidak memiliki index."
   ]
  },
  {
   "cell_type": "code",
   "execution_count": 3,
   "metadata": {},
   "outputs": [
    {
     "name": "stdout",
     "output_type": "stream",
     "text": [
      "5\n"
     ]
    }
   ],
   "source": [
    "print(len(fruit))"
   ]
  },
  {
   "cell_type": "code",
   "execution_count": 4,
   "metadata": {},
   "outputs": [
    {
     "name": "stdout",
     "output_type": "stream",
     "text": [
      "apel\n",
      "ceri\n",
      "mangga\n",
      "jeruk\n",
      "durian\n"
     ]
    }
   ],
   "source": [
    "for i in fruit:\n",
    "    print(i)"
   ]
  },
  {
   "cell_type": "markdown",
   "metadata": {},
   "source": [
    "Karena set bersifat unordered, maka kita tidak dapat mengambil data dari set menggunakan index. \n",
    "Kita dapat menggunakan loop untuk mengambil data dari set."
   ]
  },
  {
   "cell_type": "code",
   "execution_count": 5,
   "metadata": {},
   "outputs": [
    {
     "name": "stdout",
     "output_type": "stream",
     "text": [
      "True\n",
      "False\n"
     ]
    }
   ],
   "source": [
    "print(\"apel\" in fruit)\n",
    "print(\"anggur\" in fruit)"
   ]
  },
  {
   "cell_type": "code",
   "execution_count": 4,
   "metadata": {},
   "outputs": [
    {
     "name": "stdout",
     "output_type": "stream",
     "text": [
      "{'apel', 'mangga', 'jeruk', 'anggur', 'ceri', 'durian'}\n"
     ]
    }
   ],
   "source": [
    "fruit.add(\"anggur\")\n",
    "print(fruit)"
   ]
  },
  {
   "cell_type": "markdown",
   "metadata": {},
   "source": [
    "Menambahkan dua set dengan method **union()**"
   ]
  },
  {
   "cell_type": "code",
   "execution_count": 5,
   "metadata": {},
   "outputs": [
    {
     "name": "stdout",
     "output_type": "stream",
     "text": [
      "{'piaggio', 'vespa', 'ktm', 'ducati', 'honda', 'yamaha', 'suzuki', 'kawasaki'}\n"
     ]
    }
   ],
   "source": [
    "a = {'honda', 'yamaha', 'suzuki', 'kawasaki'}\n",
    "b = {'ducati', 'ktm', 'vespa', 'piaggio'}\n",
    "\n",
    "c = a.union(b)\n",
    "print(c)"
   ]
  },
  {
   "cell_type": "markdown",
   "metadata": {},
   "source": [
    "Hanya menyimpan item yang sama dari dua set dengan method **intersection()**"
   ]
  },
  {
   "cell_type": "code",
   "execution_count": 6,
   "metadata": {},
   "outputs": [
    {
     "name": "stdout",
     "output_type": "stream",
     "text": [
      "{'suzuki', 'honda'}\n"
     ]
    }
   ],
   "source": [
    "d = {'mazda', 'toyota', 'honda', 'suzuki'}\n",
    "\n",
    "e = a.intersection(d)\n",
    "\n",
    "print(e)"
   ]
  },
  {
   "cell_type": "markdown",
   "metadata": {},
   "source": [
    "Hanya menyimpan item yang berbeda dari dua set dengan method **difference()**"
   ]
  },
  {
   "cell_type": "code",
   "execution_count": 7,
   "metadata": {},
   "outputs": [
    {
     "name": "stdout",
     "output_type": "stream",
     "text": [
      "{'kawasaki', 'yamaha'}\n"
     ]
    }
   ],
   "source": [
    "f = a.difference(d)\n",
    "\n",
    "print(f)"
   ]
  },
  {
   "cell_type": "markdown",
   "metadata": {},
   "source": [
    "Hanya menyimpan item yang berbeda dari dua set dengan method **symmetric_difference()**. \n",
    "\n",
    "**symmetric_difference()** sama dengan **union()** dikurangi **intersection()** artinya hanya menyimpan item yang berbeda dari dua set."
   ]
  },
  {
   "cell_type": "code",
   "execution_count": 9,
   "metadata": {},
   "outputs": [
    {
     "name": "stdout",
     "output_type": "stream",
     "text": [
      "{'toyota', 'yamaha', 'kawasaki', 'mazda'}\n"
     ]
    }
   ],
   "source": [
    "g = a.symmetric_difference(d)\n",
    "\n",
    "print(g)"
   ]
  },
  {
   "cell_type": "markdown",
   "metadata": {},
   "source": [
    "Menambah item di set dari sebuah list dengan method **update()**"
   ]
  },
  {
   "cell_type": "code",
   "execution_count": 16,
   "metadata": {},
   "outputs": [
    {
     "name": "stdout",
     "output_type": "stream",
     "text": [
      "{'beruang', 'lalat', 'anjing', 'kucing', 'nyamuk', 'serigala', 'kupu-kupu', 'kumbang', 'singa', 'lebah'}\n"
     ]
    }
   ],
   "source": [
    "serangga = [\"lebah\", \"lalat\", \"nyamuk\", \"kupu-kupu\", \"kumbang\"]\n",
    "mamalia = {\"kucing\", \"anjing\", \"beruang\", \"singa\", \"serigala\", \"anjing\"}\n",
    "\n",
    "mamalia.update(serangga)\n",
    "\n",
    "print(mamalia)"
   ]
  },
  {
   "cell_type": "markdown",
   "metadata": {},
   "source": [
    "Sedangkan jika kita ingin menambahkan item di list dari sebuah set, kita dapat menggunakan methon **extend()**"
   ]
  },
  {
   "cell_type": "code",
   "execution_count": 17,
   "metadata": {},
   "outputs": [
    {
     "ename": "AttributeError",
     "evalue": "'list' object has no attribute 'update'",
     "output_type": "error",
     "traceback": [
      "\u001b[0;31m---------------------------------------------------------------------------\u001b[0m",
      "\u001b[0;31mAttributeError\u001b[0m                            Traceback (most recent call last)",
      "\u001b[1;32m/workspaces/codespaces-jupyter/notebooks/kelasterbuka-py.ipynb Cell 142\u001b[0m line \u001b[0;36m1\n\u001b[0;32m----> <a href='vscode-notebook-cell://codespaces%2Bprobable-space-giggle-5prx7wv47jhpx9v/workspaces/codespaces-jupyter/notebooks/kelasterbuka-py.ipynb#Y264sdnNjb2RlLXJlbW90ZQ%3D%3D?line=0'>1</a>\u001b[0m serangga\u001b[39m.\u001b[39;49mupdate(mamalia)\n\u001b[1;32m      <a href='vscode-notebook-cell://codespaces%2Bprobable-space-giggle-5prx7wv47jhpx9v/workspaces/codespaces-jupyter/notebooks/kelasterbuka-py.ipynb#Y264sdnNjb2RlLXJlbW90ZQ%3D%3D?line=2'>3</a>\u001b[0m \u001b[39mprint\u001b[39m(serangga)\n",
      "\u001b[0;31mAttributeError\u001b[0m: 'list' object has no attribute 'update'"
     ]
    }
   ],
   "source": [
    "serangga.update(mamalia)\n",
    "\n",
    "print(serangga)"
   ]
  },
  {
   "cell_type": "markdown",
   "metadata": {},
   "source": [
    "Error karena list tidak dapat menggunakan **update()**"
   ]
  },
  {
   "cell_type": "code",
   "execution_count": 19,
   "metadata": {},
   "outputs": [
    {
     "name": "stdout",
     "output_type": "stream",
     "text": [
      "['lebah', 'lalat', 'nyamuk', 'kupu-kupu', 'kumbang', 'beruang', 'kucing', 'singa', 'serigala', 'anjing']\n"
     ]
    }
   ],
   "source": [
    "serangga = [\"lebah\", \"lalat\", \"nyamuk\", \"kupu-kupu\", \"kumbang\"]\n",
    "mamalia = {\"kucing\", \"anjing\", \"beruang\", \"singa\", \"serigala\", \"anjing\"}\n",
    "\n",
    "serangga.extend(mamalia)\n",
    "\n",
    "print(serangga)"
   ]
  },
  {
   "cell_type": "code",
   "execution_count": 20,
   "metadata": {},
   "outputs": [
    {
     "name": "stdout",
     "output_type": "stream",
     "text": [
      "{'kucing', 'singa', 'serigala', 'anjing'}\n"
     ]
    }
   ],
   "source": [
    "mamalia.pop()\n",
    "\n",
    "print (mamalia)"
   ]
  },
  {
   "cell_type": "markdown",
   "metadata": {},
   "source": [
    "**pop()** digunakan pada set untuk menghapus item secara acak"
   ]
  },
  {
   "cell_type": "markdown",
   "metadata": {},
   "source": [
    "### Dictionary"
   ]
  },
  {
   "cell_type": "markdown",
   "metadata": {},
   "source": [
    "Dictionary adalah tipe data yang berisi kumpulan data dengan format key dan value. \n",
    "\n",
    "Dictionary bersifat mutable, artinya dictionary dapat diubah setelah dideklarasikan. \n",
    "\n",
    "Dictionary bersifat ordered, mutable, dan do not allow duplicate values.\n",
    "\n",
    "\n",
    "Macam-macam method dictionary di python:\n",
    "\n",
    "```\n",
    "clear(), copy(), fromkeys(), get(), items(), keys(), pop(), popitem(), setdefault(), update(), values()\n",
    "```"
   ]
  },
  {
   "cell_type": "code",
   "execution_count": 2,
   "metadata": {},
   "outputs": [
    {
     "name": "stdout",
     "output_type": "stream",
     "text": [
      "{'nama': 'Anton 🙀', 'umur': 2, 'warna': 'oren', 'jantan': True, 'malas': True, 'hobby': ['makan', 'tidur', 'main']}\n"
     ]
    }
   ],
   "source": [
    "kucing = {\n",
    "    \"nama\": \"Anton 🙀\",\n",
    "    \"umur\": 2,\n",
    "    \"warna\": \"oren\",\n",
    "    \"jantan\": True,\n",
    "    \"malas\": True,\n",
    "    \"hobby\": [\"makan\", \"tidur\", \"main\"]\n",
    "}\n",
    "\n",
    "print(kucing)"
   ]
  },
  {
   "cell_type": "code",
   "execution_count": 3,
   "metadata": {},
   "outputs": [
    {
     "name": "stdout",
     "output_type": "stream",
     "text": [
      "6\n"
     ]
    }
   ],
   "source": [
    "print(len(kucing))"
   ]
  },
  {
   "cell_type": "code",
   "execution_count": 4,
   "metadata": {},
   "outputs": [
    {
     "name": "stdout",
     "output_type": "stream",
     "text": [
      "Anton 🙀\n"
     ]
    }
   ],
   "source": [
    "print(kucing[\"nama\"])"
   ]
  },
  {
   "cell_type": "markdown",
   "metadata": {},
   "source": [
    "Bentuk lain untuk membuat dictionary adalah dengan menggunakan method **dict()**"
   ]
  },
  {
   "cell_type": "code",
   "execution_count": 5,
   "metadata": {},
   "outputs": [
    {
     "name": "stdout",
     "output_type": "stream",
     "text": [
      "{'nama': 'Anton 🙀', 'umur': 2, 'warna': 'oren', 'jantan': True, 'malas': True, 'hobby': ['makan', 'tidur', 'main']}\n"
     ]
    }
   ],
   "source": [
    "kucing = dict(nama=\"Anton 🙀\", umur=2, warna=\"oren\", jantan=True, malas=True, hobby=[\"makan\", \"tidur\", \"main\"])\n",
    "\n",
    "print(kucing)"
   ]
  },
  {
   "cell_type": "markdown",
   "metadata": {},
   "source": [
    "Mengambil seluruh keys dari dictionary menggunakan method **keys()**"
   ]
  },
  {
   "cell_type": "code",
   "execution_count": 8,
   "metadata": {},
   "outputs": [
    {
     "name": "stdout",
     "output_type": "stream",
     "text": [
      "dict_keys(['nama', 'umur', 'warna', 'jantan', 'malas', 'hobby'])\n"
     ]
    }
   ],
   "source": [
    "print(kucing.keys())"
   ]
  },
  {
   "cell_type": "markdown",
   "metadata": {},
   "source": [
    "## Loops"
   ]
  },
  {
   "cell_type": "markdown",
   "metadata": {},
   "source": [
    "Loop adalah statement yang digunakan untuk mengulang kode program secara otomatis sesuai dengan jumlah perulangan tertentu. \n",
    "\n",
    "| Loop | Keterangan |\n",
    "|------|------------|\n",
    "| for  | Digunakan untuk mengulang kode program dengan jumlah perulangan yang sudah diketahui sebelumnya. |\n",
    "| while | Digunakan untuk mengulang kode program dengan jumlah perulangan yang tidak diketahui sebelumnya. |\n",
    "| break | Digunakan untuk menghentikan perulangan secara paksa. |\n",
    "| continue | Digunakan untuk melanjutkan perulangan ke iterasi selanjutnya. |\n",
    "| pass | Digunakan untuk memberikan perintah kosong atau tidak melakukan apa-apa pada saat perulangan. |\n"
   ]
  },
  {
   "cell_type": "markdown",
   "metadata": {},
   "source": [
    "### For Loop"
   ]
  },
  {
   "cell_type": "markdown",
   "metadata": {},
   "source": [
    "## Switch Case"
   ]
  },
  {
   "cell_type": "markdown",
   "metadata": {},
   "source": [
    "Switch Case adalah statement percabangan yang memungkinkan kita untuk mengecek nilai sebuah variabel dan mengeksekusi kode program jika nilai tersebut sesuai dengan nilai case tertentu.\n",
    "\n",
    "Switch pada python 3.10 menggunakan keyword **match** dan **case**"
   ]
  },
  {
   "cell_type": "code",
   "execution_count": 3,
   "metadata": {},
   "outputs": [
    {
     "name": "stdout",
     "output_type": "stream",
     "text": [
      "You can become a backend developer\n"
     ]
    }
   ],
   "source": [
    "lang = input(\"What's the programming language you want to learn? \")\n",
    "\n",
    "match lang:\n",
    "    case \"JavaScript\":\n",
    "        print(\"You can become a web developer.\")\n",
    "\n",
    "    case \"Python\":\n",
    "        print(\"You can become a Data Scientist\")\n",
    "\n",
    "    case \"PHP\":\n",
    "        print(\"You can become a backend developer\")\n",
    "    \n",
    "    case \"Solidity\":\n",
    "        print(\"You can become a Blockchain developer\")\n",
    "\n",
    "    case \"Java\":\n",
    "        print(\"You can become a mobile app developer\")\n",
    "    case _:\n",
    "        print(\"The language doesn't matter, what matters is solving problems.\")"
   ]
  }
 ],
 "metadata": {
  "kernelspec": {
   "display_name": "Python 3",
   "language": "python",
   "name": "python3"
  },
  "language_info": {
   "codemirror_mode": {
    "name": "ipython",
    "version": 3
   },
   "file_extension": ".py",
   "mimetype": "text/x-python",
   "name": "python",
   "nbconvert_exporter": "python",
   "pygments_lexer": "ipython3",
   "version": "3.10.8"
  },
  "orig_nbformat": 4
 },
 "nbformat": 4,
 "nbformat_minor": 2
}
