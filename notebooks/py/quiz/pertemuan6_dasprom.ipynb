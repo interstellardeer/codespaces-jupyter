{
 "cells": [
  {
   "cell_type": "markdown",
   "metadata": {},
   "source": [
    "# Tugas - Operations dan Conditional Statement\n",
    "\n",
    "* * *\n",
    "\n",
    "Nama: Mochammad Arsya Akhtiar Permana\\\n",
    "NIM: 2300295\\\n",
    "Kelas: RPL 1A"
   ]
  },
  {
   "cell_type": "markdown",
   "metadata": {},
   "source": [
    "### Soal 1\n",
    "\n",
    "Buatlah sebuah program untuk melakukan pengecekan nilai yang di input oleh user, apabila nilai >= 90 maka bernilai A, apabila 90 < nilai >= 80 bernilai B, apabila 80 < nilai <= 70 maka bernilai C, dan apabila nilai < 70 dari maka nilainya D."
   ]
  },
  {
   "cell_type": "code",
   "execution_count": 1,
   "metadata": {},
   "outputs": [
    {
     "name": "stdout",
     "output_type": "stream",
     "text": [
      "Nilai anda 80\n",
      "Nilai anda adalah B\n"
     ]
    }
   ],
   "source": [
    "nilai = int(input(\"Masukkan nilai: \"))\n",
    "print(f\"Nilai anda {nilai}\")\n",
    "if nilai >= 90:\n",
    "    print(\"Nilai anda adalah A\")\n",
    "elif nilai >= 80:\n",
    "    print(\"Nilai anda adalah B\")\n",
    "elif nilai >= 70:\n",
    "    print(\"Nilai anda adalah C\")\n",
    "else:\n",
    "    print(\"Nilai anda adalah D\")"
   ]
  },
  {
   "cell_type": "markdown",
   "metadata": {},
   "source": [
    "### Soal 2\n",
    "\n",
    "Cek angka yang di input user, apabila bernilai ganjil maka output-n “Angka  <input_angka> merupakan angka ganjil”\n",
    "Apabila bernilai ganjil maka output-nya “Angka <input_angka> merupakan angka genap” Apabila user memasukan nilai selain angka, maka output yang dihasilkan “Maaf silahkan masukan angka”"
   ]
  },
  {
   "cell_type": "code",
   "execution_count": 2,
   "metadata": {},
   "outputs": [
    {
     "name": "stdout",
     "output_type": "stream",
     "text": [
      "Angka 23 merupakan angka ganjil\n"
     ]
    }
   ],
   "source": [
    "while True:\n",
    "    input_angka = input(\"Masukkan angka: \")\n",
    "    try:\n",
    "        angka = int(input_angka) \n",
    "    except ValueError:\n",
    "        print(\"Maaf silahkan masukan angka\")\n",
    "        continue\n",
    "\n",
    "    if angka % 2 == 0:\n",
    "        print(f\"Angka {angka} merupakan angka genap\")\n",
    "    else:\n",
    "        print(f\"Angka {angka} merupakan angka ganjil\")\n",
    "    break"
   ]
  },
  {
   "cell_type": "markdown",
   "metadata": {},
   "source": [
    "### Soal 3\n",
    "\n",
    "Sekolah \"Pandai Cerdas\" memberikan beasiswa kepada siswa berdasarkan hasil ujian dan kondisi keuangan mereka. Jika nilai ujian seorang siswa lebih dari 90 dan kondisi keuangan keluarganya kurang dari Rp 2.000.000, maka siswa tersebut akan mendapatkan beasiswa penuh. Jika nilai ujian lebih dari 80 tetapi kurang dari atau sama dengan 90, dan kondisi keuangan kurang dari Rp 4.000.000, maka siswa tersebut akan mendapatkan beasiswa parsial. Selain itu, siswa yang tidak memenuhi salah satu kondisi tersebut tidak akan mendapatkan beasiswa. Tuliskan program Python yang memeriksa apakah seorang siswa berhak mendapatkan beasiswa atau tidak berdasarkan nilai ujian dan kondisi keuangan mereka."
   ]
  },
  {
   "cell_type": "code",
   "execution_count": 4,
   "metadata": {},
   "outputs": [
    {
     "name": "stdout",
     "output_type": "stream",
     "text": [
      "Nilai anda 91 dan penghasilan keluarga anda 700000\n",
      "Selamat anda mendapatkan beasiswa penuh\n"
     ]
    }
   ],
   "source": [
    "while True:\n",
    "    try:\n",
    "        nilai = int(input(\"Masukkan nilai: \"))\n",
    "        keuangan = int(input(\"Masukkan penghasilan keluarga: \"))\n",
    "        break\n",
    "    except ValueError:\n",
    "        print(\"Input harus berupa angka\")\n",
    "\n",
    "print(f\"Nilai anda {nilai} dan penghasilan keluarga anda \")\n",
    "if nilai > 90 and keuangan < 2000000:\n",
    "    print(\"Selamat anda mendapatkan beasiswa penuh\")\n",
    "elif nilai > 80 and keuangan < 4000000:\n",
    "    print(\"Selamat anda mendapatkan beasiswa parsial\")\n",
    "else: \n",
    "    print(\"Maaf anda tidak mendapatkan beasiswa\")"
   ]
  },
  {
   "cell_type": "markdown",
   "metadata": {},
   "source": [
    "### Soal 4\n",
    "\n",
    "Sebuah perusahaan memberikan bonus tahunan kepada karyawan berdasarkan performa mereka. Karyawan dengan performa \"sangat baik\" akan mendapatkan bonus sebesar 20% dari gaji mereka, karyawan dengan performa \"cukup\" akan mendapatkan bonus 10%, dan karyawan lainnya akan mendapatkan bonus 5%. Tuliskan program Python yang meminta input performa seorang karyawan dan gaji mereka, lalu menghitung jumlah bonus yang akan mereka terima."
   ]
  },
  {
   "cell_type": "code",
   "execution_count": 6,
   "metadata": {},
   "outputs": [
    {
     "name": "stdout",
     "output_type": "stream",
     "text": [
      "Masukkan performa karyawan: \n",
      "  \n",
      "    sangat baik,\n",
      "    cukup, \n",
      "    atau lainnya \n",
      "      \n",
      "    lalu gaji dari karyawan tersebut.\n",
      "      \n",
      "    maka program akan menghitung jumlah gaji \n",
      "    bonus yang akan diterima oleh\n",
      "    karyawan tersebut.\n",
      "    \n",
      "    \n",
      "\n",
      "    Total gaji dari karyawan dengan \n",
      "    performa sangat baik tersebut \n",
      "    adalah 8400000.0\n",
      "    \n",
      "    Gaji awal 7000000 ditambah bonus 1400000.0\n",
      "    \n"
     ]
    }
   ],
   "source": [
    "print(\n",
    "    '''Masukkan performa karyawan: \n",
    "  \n",
    "    sangat baik,\n",
    "    cukup, \n",
    "    atau lainnya \n",
    "      \n",
    "    lalu gaji dari karyawan tersebut.\n",
    "      \n",
    "    maka program akan menghitung jumlah gaji \n",
    "    bonus yang akan diterima oleh\n",
    "    karyawan tersebut.\n",
    "    \n",
    "    ''')\n",
    "\n",
    "while True:\n",
    "    try:\n",
    "        performa = input(\"Masukkan performa Karyawan: \")\n",
    "        gaji = int(input(\"Masukkan gaji Karyawan: \"))\n",
    "        break\n",
    "    except ValueError:\n",
    "        print(\"Input gaji harus berupa angka, silakan coba lagi.\")\n",
    "\n",
    "match performa:\n",
    "    case \"sangat baik\":\n",
    "        BONUS = 0.2\n",
    "    case \"cukup\":\n",
    "        BONUS = 0.1\n",
    "    case _:\n",
    "        BONUS = 0.05\n",
    "\n",
    "bonus = gaji * BONUS\n",
    "\n",
    "print (f'''\n",
    "    Total gaji dari karyawan dengan \n",
    "    performa {performa} tersebut \n",
    "    adalah {gaji + bonus}\n",
    "    \n",
    "    Gaji awal {gaji} ditambah bonus {bonus}\n",
    "    ''')"
   ]
  },
  {
   "cell_type": "markdown",
   "metadata": {},
   "source": [
    "### Soal 5\n",
    "\n",
    "Toko \"Hemat Berkah\" memberikan diskon kepada pelanggan berdasarkan total belanjaan mereka. Jika total belanjaan pelanggan melebihi Rp 500.000, mereka akan mendapatkan diskon sebesar 10%. Jika total belanjaan kurang dari atau sama dengan Rp 500.000, mereka tidak akan mendapatkan diskon. Tuliskan program Python yang meminta input total belanjaan pelanggan dan menentukan apakah mereka berhak mendapatkan diskon atau tidak, serta menghitung total yang harus dibayar setelah diskon (jika ada)"
   ]
  },
  {
   "cell_type": "code",
   "execution_count": 7,
   "metadata": {},
   "outputs": [
    {
     "name": "stdout",
     "output_type": "stream",
     "text": [
      "Total belanja anda adalah 700000\n",
      "Selamat anda mendapatkan diskon sebesar 10%\n",
      "Total yang harus dibayar adalah Rp.630000.0\n"
     ]
    }
   ],
   "source": [
    "while True:\n",
    "    try:\n",
    "        total_belanja = int(input(\"Masukkan total belanjaan: Rp.\"))\n",
    "        break\n",
    "    except ValueError:\n",
    "        print(\"Input tidak valid. Mohon masukkan angka.\")\n",
    "\n",
    "print(f\"Total belanja anda adalah {total_belanja}\")\n",
    "if total_belanja > 500000:\n",
    "    print(\"Selamat anda mendapatkan diskon sebesar 10%\")\n",
    "    print(f\"Total yang harus dibayar adalah Rp.{total_belanja - (total_belanja * 0.1)}\")\n",
    "else:\n",
    "    print(\"Maaf, total belanjaan anda tidak mencukupi untuk mendapatkan diskon.\")\n",
    "    print(f\"Total yang harus dibayar adalah Rp.{total_belanja}\")"
   ]
  }
 ],
 "metadata": {
  "kernelspec": {
   "display_name": "Python 3",
   "language": "python",
   "name": "python3"
  },
  "language_info": {
   "codemirror_mode": {
    "name": "ipython",
    "version": 3
   },
   "file_extension": ".py",
   "mimetype": "text/x-python",
   "name": "python",
   "nbconvert_exporter": "python",
   "pygments_lexer": "ipython3",
   "version": "3.10.8"
  }
 },
 "nbformat": 4,
 "nbformat_minor": 2
}
