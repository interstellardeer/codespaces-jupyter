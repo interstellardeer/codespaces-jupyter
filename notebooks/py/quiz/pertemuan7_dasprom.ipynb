{
 "cells": [
  {
   "cell_type": "markdown",
   "metadata": {},
   "source": [
    "# Tugas - Perulangan (Looping)\n",
    "\n",
    "* * *\n",
    "\n",
    "Nama: Mochammad Arsya Akhtiar Permana\\\n",
    "NIM: 2300295\\\n",
    "Kelas: RPL 1A"
   ]
  },
  {
   "cell_type": "markdown",
   "metadata": {},
   "source": [
    "## Soal 1 \n",
    "\n",
    "Lakukan inputan dari user yang memenuhi syarat yaitu bilangan ganjil dan lebih dari 50, apabila tidak memenuhi syarat maka sistem akan meminta user untuk menginputkan kembali bilangan yang memenuhi syarat"
   ]
  },
  {
   "cell_type": "code",
   "execution_count": 1,
   "metadata": {},
   "outputs": [
    {
     "name": "stdout",
     "output_type": "stream",
     "text": [
      "salah, angka 50 tidak memenuhi syarat\n",
      "benar, angka 53 merupakan angka ganjil dan lebih dari 50\n"
     ]
    }
   ],
   "source": [
    "while True:\n",
    "    input_angka = input(\"Masukkan angka lebih dari 50 dan ganjil: \")\n",
    "    try:\n",
    "        angka = int(input_angka)\n",
    "    except ValueError:\n",
    "        print(\"Maaf silahkan masukan angka\")\n",
    "        continue\n",
    "    if angka % 2 == 1 and angka > 50:\n",
    "        print(f\"benar, angka {angka} merupakan angka ganjil dan lebih dari 50\")\n",
    "        break\n",
    "    print(f\"salah, angka {angka} tidak memenuhi syarat\")"
   ]
  },
  {
   "cell_type": "markdown",
   "metadata": {},
   "source": [
    "## Soal 2\n",
    "\n",
    "Leni kembali menemui sebuah masalah baru. Kali ini dia ingin sekali mengetahui deret angka dari 1 sampai 50 dimana ketika bertemu dengan kelipatan 5 maka outputnya adalah \"pass\". Tolong bantu Leni dengan masalahnya kali ini."
   ]
  },
  {
   "cell_type": "code",
   "execution_count": 3,
   "metadata": {},
   "outputs": [
    {
     "name": "stdout",
     "output_type": "stream",
     "text": [
      "1\n",
      "2\n",
      "3\n",
      "4\n",
      "pass\n",
      "6\n",
      "7\n",
      "8\n",
      "9\n",
      "pass\n",
      "11\n",
      "12\n",
      "13\n",
      "14\n",
      "pass\n",
      "16\n",
      "17\n",
      "18\n",
      "19\n",
      "pass\n",
      "21\n",
      "22\n",
      "23\n",
      "24\n",
      "pass\n",
      "26\n",
      "27\n",
      "28\n",
      "29\n",
      "pass\n",
      "31\n",
      "32\n",
      "33\n",
      "34\n",
      "pass\n",
      "36\n",
      "37\n",
      "38\n",
      "39\n",
      "pass\n",
      "41\n",
      "42\n",
      "43\n",
      "44\n",
      "pass\n",
      "46\n",
      "47\n",
      "48\n",
      "49\n",
      "pass\n"
     ]
    }
   ],
   "source": [
    "for i in range(1, 51):\n",
    "    if i % 5 == 0:\n",
    "        print(\"pass\")\n",
    "    else:\n",
    "        print(i)"
   ]
  }
 ],
 "metadata": {
  "kernelspec": {
   "display_name": "Python 3",
   "language": "python",
   "name": "python3"
  },
  "language_info": {
   "codemirror_mode": {
    "name": "ipython",
    "version": 3
   },
   "file_extension": ".py",
   "mimetype": "text/x-python",
   "name": "python",
   "nbconvert_exporter": "python",
   "pygments_lexer": "ipython3",
   "version": "3.10.8"
  }
 },
 "nbformat": 4,
 "nbformat_minor": 2
}
