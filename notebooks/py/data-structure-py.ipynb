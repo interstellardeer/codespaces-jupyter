{
 "cells": [
  {
   "cell_type": "markdown",
   "metadata": {},
   "source": [
    "# **Python Data Structures**"
   ]
  },
  {
   "cell_type": "markdown",
   "metadata": {},
   "source": [
    "*Data structures are a way of organizing and storing data so that they can be accessed and worked with efficiently. They define the relationship between the data, and the operations that can be performed on the data. There are many different kinds of data structures defined that make it easier for the data scientists and the computer engineers to concentrate on the main picture rather than worrying about the low level implementations.*\n",
    "\n",
    "Struktur data adalah cara untuk mengorganisir dan menyimpan data sehingga dapat diakses dan dikerjakan dengan efisien. Struktur data mendefinisikan hubungan antara data, dan operasi yang dapat dilakukan pada data tersebut. Ada banyak jenis struktur data yang didefinisikan yang membuat lebih mudah bagi *data scientists* dan the *computer engineers* untuk berkonsentrasi pada gambaran besar daripada khawatir tentang implementasi *low level*."
   ]
  },
  {
   "cell_type": "markdown",
   "metadata": {},
   "source": [
    "![Data Structure in Python](https://miro.medium.com/v2/resize:fit:1400/1*1aYIbTXZtUB4MfpSirGohA.png \"Data Structure in Python\")\n",
    "\n",
    "[Python Data Structures](https://www.geeksforgeeks.org/python-data-structures/)"
   ]
  }
 ],
 "metadata": {
  "language_info": {
   "name": "python"
  },
  "orig_nbformat": 4
 },
 "nbformat": 4,
 "nbformat_minor": 2
}
