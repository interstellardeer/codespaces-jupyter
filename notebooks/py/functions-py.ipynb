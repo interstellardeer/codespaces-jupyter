{
 "cells": [
  {
   "cell_type": "markdown",
   "metadata": {},
   "source": [
    "# **Python Functions**"
   ]
  },
  {
   "cell_type": "markdown",
   "metadata": {},
   "source": [
    "*Python Functions is a block of statements that return the specific task. The idea is to put some commonly or repeatedly done tasks together and make a function so that instead of writing the same code again and again for different inputs, we can do the function calls to reuse code contained in it over and over again.*\n",
    "\n",
    "Python Function adalah kumpulan pernyataan yang mengembalikan tugas tertentu. Tujuannya di baliknya adalah untuk menggabungkan beberapa tugas yang sering atau berulang-ulang dilakukan dan membuat sebuah fungsi sehingga, daripada menulis kode yang sama berulang-ulang untuk input yang berbeda, kita dapat melakukan pemanggilan fungsi untuk mengulang-ulang kode yang terkandung di dalamnya.\n",
    "\n",
    "Some Benefits of Using Functions\n",
    "\n",
    "* Increase Code Readability \n",
    "* Increase Code Reusability\n",
    "\n"
   ]
  },
  {
   "cell_type": "markdown",
   "metadata": {},
   "source": [
    "Python functions are defined using the `def` keyword. For example, the following function takes two arguments and returns their sum: \n",
    "\n",
    "```\n",
    "def add(x, y):\n",
    "    return x + y\n",
    "```"
   ]
  },
  {
   "cell_type": "markdown",
   "metadata": {},
   "source": [
    "![Pyhton Function](https://media.geeksforgeeks.org/wp-content/uploads/20220721172423/51.png \"Python Function\")"
   ]
  }
 ],
 "metadata": {
  "language_info": {
   "name": "python"
  },
  "orig_nbformat": 4
 },
 "nbformat": 4,
 "nbformat_minor": 2
}
