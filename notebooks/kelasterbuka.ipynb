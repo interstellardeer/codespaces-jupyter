{
 "cells": [
  {
   "cell_type": "markdown",
   "metadata": {},
   "source": [
    "# **Tutorial Kelas Terbuka Test**\n",
    "\n",
    "Kode dan Testing dari playlist video Tutorial Python Dasar dari Kelas Terbuka"
   ]
  },
  {
   "cell_type": "markdown",
   "metadata": {},
   "source": [
    "## Variabel"
   ]
  },
  {
   "cell_type": "markdown",
   "metadata": {},
   "source": [
    "Buatlah sebuah program python dimana user harus memberikan input nama dan umur lalu output program yaitu selamat datang <nama_user> Umur anda sekarang adalah <umur_user>"
   ]
  },
  {
   "cell_type": "code",
   "execution_count": null,
   "metadata": {},
   "outputs": [
    {
     "name": "stdout",
     "output_type": "stream",
     "text": [
      "Selamat datang Arsya Umur anda sekarang adalah 18 tahun\n"
     ]
    }
   ],
   "source": [
    "nama_user = input(\"Masukkan nama user: \")\n",
    "umur_user = input(\"Masukkan umur user: \")\n",
    "\n",
    "print(\"Selamat datang\", nama_user, \"Umur anda sekarang adalah\", umur_user, \"tahun\")"
   ]
  },
  {
   "cell_type": "markdown",
   "metadata": {},
   "source": [
    "## Aritmatika"
   ]
  },
  {
   "cell_type": "markdown",
   "metadata": {},
   "source": [
    "Buatlah program kalkulator sederhana untuk pertambahan 3 buah bilangan yang diinput oleh user contohnya:\n",
    "input a=1\n",
    "input b =2\n",
    "input c=3\n",
    "lalu mengeluarkan output"
   ]
  },
  {
   "cell_type": "code",
   "execution_count": 1,
   "metadata": {},
   "outputs": [
    {
     "name": "stdout",
     "output_type": "stream",
     "text": [
      "nilai a + b + C =  343\n"
     ]
    }
   ],
   "source": [
    "a = input(\"Masukkan nilai a: \")\n",
    "b = input(\"Masukkan nilai b: \")\n",
    "c = input(\"Masukkan nilai c: \")\n",
    "\n",
    "print(\"nilai a + b + C = \", a + b + c)"
   ]
  },
  {
   "cell_type": "markdown",
   "metadata": {},
   "source": [
    "Buatlah program konversi temperatur dengan input celcius"
   ]
  },
  {
   "cell_type": "code",
   "execution_count": 4,
   "metadata": {},
   "outputs": [
    {
     "name": "stdout",
     "output_type": "stream",
     "text": [
      "Suhu dalam celcius adalah 32.0 C\n",
      "Suhu dalam reamur adalah 25.6 R\n",
      "Suhu dalam fahrenhait adalah 89.6 F\n",
      "Suhu dalam kelvin adalah 305.0 K\n"
     ]
    }
   ],
   "source": [
    "celcius = float(input(\"Masukkan suhu dalam celcius: \"))\n",
    "\n",
    "reamur = (4/5) * celcius\n",
    "\n",
    "fahrenhait = ((9/5) * celcius) + 32\n",
    "\n",
    "kelvin =  celcius + 273\n",
    "\n",
    "\n",
    "print(\"Suhu dalam celcius adalah\", celcius, \"C\")\n",
    "print(\"Suhu dalam reamur adalah\", reamur, \"R\")\n",
    "print(\"Suhu dalam fahrenhait adalah\", fahrenhait, \"F\")\n",
    "print(\"Suhu dalam kelvin adalah\", kelvin, \"K\")"
   ]
  },
  {
   "cell_type": "markdown",
   "metadata": {},
   "source": [
    "Buatlah program sederhana untuk mengkonversi fahrenheit ke kelvin"
   ]
  },
  {
   "cell_type": "code",
   "execution_count": 5,
   "metadata": {},
   "outputs": [
    {
     "name": "stdout",
     "output_type": "stream",
     "text": [
      "Suhu dalam fahrenhait adalah 40.0 F\n",
      "Suhu dalam kelvin adalah 277.44444444444446 K\n"
     ]
    }
   ],
   "source": [
    "fahrenhait = float(input(\"Masukkan suhu dalam fahrenhait: \"))\n",
    "\n",
    "kelvin = (5/9) * (fahrenhait - 32) + 273\n",
    "\n",
    "print(\"Suhu dalam fahrenhait adalah\", fahrenhait, \"F\")\n",
    "print(\"Suhu dalam kelvin adalah\", kelvin, \"K\")"
   ]
  },
  {
   "cell_type": "markdown",
   "metadata": {},
   "source": [
    "Buatlah program sederhana untuk mengkonversi kelvin ke fahrenheit"
   ]
  },
  {
   "cell_type": "code",
   "execution_count": 6,
   "metadata": {},
   "outputs": [
    {
     "name": "stdout",
     "output_type": "stream",
     "text": [
      "Suhu dalam kelvin adalah 70.0 K\n",
      "Suhu dalam fahrenhait adalah -333.40000000000003 F\n"
     ]
    }
   ],
   "source": [
    "kelvin = float(input(\"Masukkan suhu dalam kelvin: \"))\n",
    "\n",
    "fahrenhait = (9/5) * (kelvin - 273) + 32\n",
    "\n",
    "print(\"Suhu dalam kelvin adalah\", kelvin, \"K\")\n",
    "print(\"Suhu dalam fahrenhait adalah\", fahrenhait, \"F\")"
   ]
  },
  {
   "cell_type": "markdown",
   "metadata": {},
   "source": [
    "## Komparasi"
   ]
  },
  {
   "cell_type": "markdown",
   "metadata": {},
   "source": [
    "Macam-macam operator komparasi di python:\n",
    "\n",
    "```\n",
    "\">, <, >=, <=, ==, !=, is, is not\"\n",
    "```\n",
    "\n",
    "Setiap operator komparasi akan menghasilkan nilai boolean"
   ]
  },
  {
   "cell_type": "code",
   "execution_count": 8,
   "metadata": {},
   "outputs": [
    {
     "name": "stdout",
     "output_type": "stream",
     "text": [
      "3 > 2 =  True\n",
      "3 < 2 =  False\n",
      "3 >= 2 =  True\n",
      "3 <= 2 =  False\n",
      "2 == 2 =  False\n",
      "2 == 2 =  True\n",
      "3 != 2 =  True\n"
     ]
    }
   ],
   "source": [
    "x = 3\n",
    "y = 2\n",
    "z = 2\n",
    "\n",
    "hasil= x>y\n",
    "print(\"3 > 2 = \", hasil)\n",
    "\n",
    "hasil= x<y\n",
    "print(\"3 < 2 = \", hasil)\n",
    "\n",
    "hasil= x>=y\n",
    "print(\"3 >= 2 = \", hasil)\n",
    "\n",
    "hasil= x<=y\n",
    "print(\"3 <= 2 = \", hasil)\n",
    "\n",
    "hasil= x==y\n",
    "print(\"2 == 2 = \", hasil)\n",
    "\n",
    "hasil= y==z\n",
    "print(\"2 == 2 = \", hasil)\n",
    "\n",
    "hasil= x!=y\n",
    "print(\"3 != 2 = \", hasil)\n",
    "\n"
   ]
  },
  {
   "cell_type": "markdown",
   "metadata": {},
   "source": [
    "Operator komparasi **\"is\"** dan **\"is not\"** digunakan untuk membandingkan identity dari suatu object"
   ]
  },
  {
   "cell_type": "code",
   "execution_count": 10,
   "metadata": {},
   "outputs": [
    {
     "name": "stdout",
     "output_type": "stream",
     "text": [
      "nilai x = 4 , id =  0x7f6b2da08150\n",
      "nilai y = 4 , id =  0x7f6b2da08150\n",
      "0x7f6b2da08150 adalah memory address dari x dan y\n",
      "x is y = True\n"
     ]
    }
   ],
   "source": [
    "x = 4\n",
    "y = 4\n",
    "\n",
    "print('nilai x =', x, ', id = ', hex(id(x)))\n",
    "print('nilai y =', y, ', id = ', hex(id(y)))\n",
    "print(hex(id(x)), 'adalah memory address dari x dan y')\n",
    "\n",
    "hasil = x is y\n",
    "print('x is y =', hasil)"
   ]
  },
  {
   "cell_type": "code",
   "execution_count": 11,
   "metadata": {},
   "outputs": [
    {
     "name": "stdout",
     "output_type": "stream",
     "text": [
      "nilai x = 5 , id =  0x7f6b2da08170\n",
      "nilai y = 4 , id =  0x7f6b2da08150\n",
      "x is not y = True\n"
     ]
    }
   ],
   "source": [
    "x = 5\n",
    "y = 4\n",
    "\n",
    "print('nilai x =', x, ', id = ', hex(id(x)))\n",
    "print('nilai y =', y, ', id = ', hex(id(y)))\n",
    "\n",
    "hasil = x is not y\n",
    "print('x is not y =', hasil)"
   ]
  },
  {
   "cell_type": "markdown",
   "metadata": {},
   "source": [
    "## Logika"
   ]
  },
  {
   "cell_type": "markdown",
   "metadata": {},
   "source": [
    "Macam-macam operator logika di python:\n",
    "\n",
    "```\n",
    "\"and, or, not, xor\"\n",
    "```\n",
    "\n",
    "* Operator logika **\"and\"** akan menghasilkan nilai **True** jika semua nilai yang dibandingkan bernilai **True**\n",
    "\n",
    "* Operator logika **\"or\"** akan menghasilkan nilai **True** jika salah satu nilai yang dibandingkan bernilai **True**\n",
    "\n",
    "---\n",
    "\n",
    "* Operator logika **\"not\"** akan menghasilkan nilai **True** jika nilai yang dibandingkan bernilai **False**\n",
    "\n",
    "* Operator logika **\"xor\"** akan menghasilkan nilai **True** jika salah satu nilai yang dibandingkan bernilai **True** dan salah satu nilai yang dibandingkan bernilai **False**\n"
   ]
  },
  {
   "cell_type": "code",
   "execution_count": 14,
   "metadata": {},
   "outputs": [
    {
     "name": "stdout",
     "output_type": "stream",
     "text": [
      "False AND False = False\n",
      "False AND True = False\n",
      "True AND False = False\n",
      "True AND True = True\n"
     ]
    }
   ],
   "source": [
    "# AND\n",
    "\n",
    "a = False\n",
    "b = False\n",
    "c = a and b\n",
    "print(a, 'AND', b, '=', c)\n",
    "\n",
    "a = False\n",
    "b = True\n",
    "c = a and b\n",
    "print(a, 'AND', b, '=', c)\n",
    "\n",
    "a = True\n",
    "b = False\n",
    "c = a and b\n",
    "print(a, 'AND', b, '=', c)\n",
    "\n",
    "a = True\n",
    "b = True\n",
    "c = a and b\n",
    "print(a, 'AND', b, '=', c)"
   ]
  },
  {
   "cell_type": "code",
   "execution_count": 15,
   "metadata": {},
   "outputs": [
    {
     "name": "stdout",
     "output_type": "stream",
     "text": [
      "False OR False = False\n",
      "False OR True = True\n",
      "True OR False = True\n",
      "True OR True = True\n"
     ]
    }
   ],
   "source": [
    "# OR\n",
    "\n",
    "a = False\n",
    "b = False\n",
    "c = a or b\n",
    "print(a, 'OR', b, '=', c)\n",
    "\n",
    "a = False\n",
    "b = True\n",
    "c = a or b\n",
    "print(a, 'OR', b, '=', c)\n",
    "\n",
    "a = True\n",
    "b = False\n",
    "c = a or b\n",
    "print(a, 'OR', b, '=', c)\n",
    "\n",
    "a = True\n",
    "b = True\n",
    "c = a or b\n",
    "print(a, 'OR', b, '=', c)"
   ]
  },
  {
   "cell_type": "code",
   "execution_count": 16,
   "metadata": {},
   "outputs": [
    {
     "name": "stdout",
     "output_type": "stream",
     "text": [
      "NOT True = False\n",
      "NOT False = True\n"
     ]
    }
   ],
   "source": [
    "# NOT\n",
    "\n",
    "a = True\n",
    "c = not a\n",
    "print('NOT', a, '=', c)\n",
    "\n",
    "a = False\n",
    "c = not a\n",
    "print('NOT', a, '=', c)"
   ]
  },
  {
   "cell_type": "code",
   "execution_count": 17,
   "metadata": {},
   "outputs": [
    {
     "name": "stdout",
     "output_type": "stream",
     "text": [
      "False XOR False = False\n",
      "False XOR True = True\n",
      "True XOR False = True\n",
      "True XOR True = False\n"
     ]
    }
   ],
   "source": [
    "# XOR\n",
    "\n",
    "a = False\n",
    "b = False\n",
    "c = a ^ b\n",
    "print(a, 'XOR', b, '=', c)\n",
    "\n",
    "a = False\n",
    "b = True\n",
    "c = a ^ b\n",
    "print(a, 'XOR', b, '=', c)\n",
    "\n",
    "a = True\n",
    "b = False\n",
    "c = a ^ b\n",
    "print(a, 'XOR', b, '=', c)\n",
    "\n",
    "a = True\n",
    "b = True\n",
    "c = a ^ b\n",
    "print(a, 'XOR', b, '=', c)"
   ]
  },
  {
   "cell_type": "markdown",
   "metadata": {},
   "source": [
    "## Latihan Logika dan Komparasi"
   ]
  },
  {
   "cell_type": "markdown",
   "metadata": {},
   "source": [
    "Buat program dengan inputan angka yang mengeluarkan nilai True jika angka tersebut merupakan **0 < x < 5 dan 8 < x < 11**"
   ]
  },
  {
   "cell_type": "code",
   "execution_count": 25,
   "metadata": {},
   "outputs": [
    {
     "name": "stdout",
     "output_type": "stream",
     "text": [
      "Angka yang anda masukkan adalah 1.0 sehingga True\n"
     ]
    }
   ],
   "source": [
    "input_user = float(input(\"Masukkan angka: \"))\n",
    "\n",
    "hasil = (input_user > 0) and (input_user < 5) or (input_user > 8) and (input_user < 11)\n",
    "\n",
    "print(\"Angka yang anda masukkan adalah\", input_user, \"sehingga\", hasil)"
   ]
  },
  {
   "cell_type": "markdown",
   "metadata": {},
   "source": [
    "Buat program dengan inputan angka yang mengeluarkan nilai True jika angka tersebut merupakan x < 0 dan 5 < x < 8 dan  11 < x"
   ]
  },
  {
   "cell_type": "code",
   "execution_count": 30,
   "metadata": {},
   "outputs": [
    {
     "name": "stdout",
     "output_type": "stream",
     "text": [
      "Angka yang anda masukkan adalah -7.0 sehingga True\n"
     ]
    }
   ],
   "source": [
    "input_user = float(input(\"Masukkan angka: \"))\n",
    "\n",
    "hasil = (input_user < 0) or (input_user > 5) and (input_user < 8) or (input_user > 11)\n",
    "\n",
    "print(\"Angka yang anda masukkan adalah\", input_user, \"sehingga\", hasil)"
   ]
  }
 ],
 "metadata": {
  "kernelspec": {
   "display_name": "Python 3",
   "language": "python",
   "name": "python3"
  },
  "language_info": {
   "codemirror_mode": {
    "name": "ipython",
    "version": 3
   },
   "file_extension": ".py",
   "mimetype": "text/x-python",
   "name": "python",
   "nbconvert_exporter": "python",
   "pygments_lexer": "ipython3",
   "version": "3.10.8"
  },
  "orig_nbformat": 4
 },
 "nbformat": 4,
 "nbformat_minor": 2
}
